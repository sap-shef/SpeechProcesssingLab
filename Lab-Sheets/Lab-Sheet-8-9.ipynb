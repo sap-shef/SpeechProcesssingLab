{
 "cells": [
  {
   "cell_type": "markdown",
   "id": "dd4f14ba",
   "metadata": {},
   "source": [
    "# Lab Sheet 8/9 (COM3502-4502-6502 Speech Processing)\n",
    "\n",
    "## Main Notebook (Start Here)"
   ]
  },
  {
   "cell_type": "markdown",
   "id": "7c303656",
   "metadata": {},
   "source": [
    "This lab sheet is part of the lecture COM[3502](http://www.dcs.shef.ac.uk/intranet/teaching/public/modules/level3/com3502.html \"Open web page for COM3502 module\")-[4502](http://www.dcs.shef.ac.uk/intranet/teaching/public/modules/level4/com4502.html \"Open web page for COM4502 module\")-[6502](http://www.dcs.shef.ac.uk/intranet/teaching/public/modules/msc/com6502.html \"Open web page for COM4502 module\") Speech Processing at the [University of Sheffield](https://www.sheffield.ac.uk/ \"Open web page of The University of Sheffield\"), Dept. of [Computer Science](https://www.sheffield.ac.uk/dcs \"Open web page of Department of Computer Science, University of Sheffield\").\n",
    "\n",
    "***\n",
    "\n",
    "Usually, it is easiest to open this Jupyter Notebook with [Google Colab](https://colab.research.google.com/notebooks/intro.ipynb#recent=true \"Open in Google Colab\") since GitHub's Viewer does not always show all details correctly. <a href=\"https://colab.research.google.com/github/sap-shef/SpeechProcesssingLab/blob/main/Lab-Sheets/Lab-Sheet-8-9.ipynb\"><img align=\"right\" src=\"https://colab.research.google.com/assets/colab-badge.svg\" alt=\"Open Notebook in Google Colab\" title=\"Open and Execute the Notebook directly in Google Colaboratory\"></a>\n",
    "\n",
    "This (set of) Notebooks partly imports other Notebooks (see more details below). Therefore, use of Google Colab may be more difficult this time. However, there will be hints in the Notebooks how to achieve this.\n",
    "\n",
    "***\n",
    "\n",
    "Please put questions, comments and correction suggestions in the [Blackboard](https://vle.shef.ac.uk) discussion board or send an email to [s.goetze@sheffield.ac.uk](mailto:s.goetze@sheffield.ac.uk).\n",
    "\n",
    "***"
   ]
  },
  {
   "cell_type": "markdown",
   "id": "01921c50",
   "metadata": {},
   "source": [
    "## The Parts - Navigation\n",
    "\n",
    "This *Lab Sheet* will be different from the previous lab sheets. This time, we will not program from scratch but aim at understanding a set of lab sheets on **Linear Predictive Coding (LPC)** which you can find in the sub-folder `LPC`. Parts of the content are already known to us from previous Notebooks.\n",
    "\n",
    "The main Notebook is the Notebook [`lpc.ipynb`](./LPC/lpc.ipynb). However, the other notebooks are intended to form the basis for understanding and should therefore be inspected first. The following figure shows how the Notebooks are connected.\n",
    "\n",
    "![LPC needs Fundamental Frequency, LPC Analysis, and LPC Synthesis](./LPC/images/flow_lpc.svg)\n",
    "\n",
    "\n",
    "* The Notebooks [`correlation.ipynb`](./LPC/correlation.ipynb),  [`autocorrelation.ipynb`](./LPC/autocorrelation.ipynb) and [`fundamental_frequency.ipynb`](./LPC/fundamental_frequency.ipynb)  repeat knowlege already known from lab sheet [Lab-Sheet 3](Lab-Sheet-3.ipynb) and [Lab-Sheet 7](Lab-Sheet-7.ipynb), respectively.\n",
    "* The Notebook [`lpc_analysis.ipynb`](./LPC/lpc_analysis.ipynb) provides some information how to analyse speech signals based on Linear Predictive Coding, i.e. how to calculate the Linear Prediction coefficients $a_i$.\n",
    "* The Notebook [`lpc_synthesis.ipynb`](./LPC/lpc_synthesis.ipynb) provides some details on the speech re-synthesis.\n",
    "* The Notebook [`lpc.ipynb`](./LPC/lpc.ipynb) contains the high level functionality.\n",
    "\n",
    "Notebooks will be able to import other Notebooks using the script `nbimpoter.py`. All Notebooks are mutually linked, and have a navigation section at the top to access the different notebooks (similar to this one). The Notebook [`lpc_video.ipynb`](./LPC/lpc_video.ipynb) is providing helper functions to generate an illustrating video output. \n",
    "\n",
    "\n",
    "<br>\n",
    "<a id='hints'></a>\n",
    "<div style=\"border: 2px solid #999; padding: 10px; background: #eee;\">\n",
    "    \n",
    "**Hints:**\n",
    "    \n",
    "<ul>\n",
    "<li> \n",
    "    The <a href=\"./LPC/lpc.ipynb\">main notebook <code>lpc.ipynb</code></a> will generate a video. This make take up to roughly 20 minutes. To have this video ready in the end, please execute all cells in the <a href=\"./LPC/lpc.ipynb\">main notebook <code>lpc.ipynb</code></a> first.\n",
    "</li>     \n",
    "</ul>"
   ]
  },
  {
   "cell_type": "markdown",
   "id": "d1c047f2",
   "metadata": {},
   "source": [
    "<br>\n",
    "<a id='task_1'></a>\n",
    "<div style=\"border: 2px solid #999; padding: 10px; background: #eee;\">\n",
    "    \n",
    "**Task 1: Repetition of Correlation Autocorrelation and Fundamental Frequency Estimation**\n",
    "    \n",
    "<ul>\n",
    "    <li> \n",
    "     Go through the LPC Notebooks <a href=\"./LPC/correlation.ipynb\"><code>correlation.ipynb</code></a>, <a href=\"./LPC/autocorrelation.ipynb\"><code>autocorrelation.ipynb</code></a> and <a href=\"./LPC/fundamental_frequency.ipynb\"><code>fundamental_frequency.ipynb</code></a>. They repeat knowledge already known from <a href=\"./Lab-Sheet-3.ipynb\">Lab-Sheet 3</a> and  <a href=\"./Lab-Sheet-7.ipynb\">Lab-Sheet 7</a>, wirth minor implementation differences, i.e. they are complete written function-based to be used by the other Notebook via importing.\n",
    "</li>    \n",
    "</ul>\n",
    "</div>\n",
    "\n",
    "<br>\n",
    "<a id='task_2'></a>\n",
    "<div style=\"border: 2px solid #999; padding: 10px; background: #eee;\">\n",
    "    \n",
    "**Task 2: Go through the LPC notebooks**\n",
    "    \n",
    "<ul>\n",
    "<li> \n",
    "    Have a look at the Notebooks <a href=\"./LPC/lpc_analysis.ipynb\"><code>lpc_analysis.ipynb</code></a>, <a href=\"./LPC/lpc_synthesis.ipynb\"><code>lpc_synthesis.ipynb</code></a> and <a href=\"./LPC/lpc.ipynb\"><code>lpc.ipynb</code></a>. \n",
    "</li>  \n",
    "</ul>\n",
    "</div>"
   ]
  },
  {
   "cell_type": "markdown",
   "id": "85166cfb",
   "metadata": {},
   "source": [
    "## Copyright\n",
    "This notebook is licensed under [Creative Commons Attribution 4.0](https://creativecommons.org/licenses/by/4.0/) to be used during the lecture COM[3502](http://www.dcs.shef.ac.uk/intranet/teaching/public/modules/level3/com3502.html \"Open web page for COM3502 module\")-[4502](http://www.dcs.shef.ac.uk/intranet/teaching/public/modules/level4/com4502.html \"Open web page for COM4502 module\")-[6502](http://www.dcs.shef.ac.uk/intranet/teaching/public/modules/msc/com6502.html \"Open web page for COM4502 module\") Speech Processing at the [University of Sheffield](https://www.sheffield.ac.uk/ \"Open web page of The University of Sheffield\"), Dept. of [Computer Science](https://www.sheffield.ac.uk/dcs \"Open web page of Department of Computer Science, University of Sheffield\"). You may download, [clone](https://docs.github.com/en/repositories/creating-and-managing-repositories/cloning-a-repository) or [fork](https://docs.github.com/en/get-started/quickstart/fork-a-repo) it to your computer or private [GitHub](https://github.com/) account. \n",
    "### Contributors\n",
    "[Stefan Goetze](http://www.stefan-goetze.de \"Web page of Stefan Goetze\"),\n",
    "[Lena Strobl](https://github.com/sleyna/)"
   ]
  }
 ],
 "metadata": {
  "kernelspec": {
   "display_name": "Python 3 (ipykernel)",
   "language": "python",
   "name": "python3"
  },
  "language_info": {
   "codemirror_mode": {
    "name": "ipython",
    "version": 3
   },
   "file_extension": ".py",
   "mimetype": "text/x-python",
   "name": "python",
   "nbconvert_exporter": "python",
   "pygments_lexer": "ipython3",
   "version": "3.9.7"
  }
 },
 "nbformat": 4,
 "nbformat_minor": 5
}
