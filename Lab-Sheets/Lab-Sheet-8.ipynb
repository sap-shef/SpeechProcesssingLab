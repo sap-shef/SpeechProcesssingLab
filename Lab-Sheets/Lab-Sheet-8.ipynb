{
 "cells": [
  {
   "cell_type": "markdown",
   "id": "dd4f14ba",
   "metadata": {},
   "source": [
    "# Lab Sheet 8 (COM3502-4502-6502 Speech Processing)"
   ]
  },
  {
   "cell_type": "markdown",
   "id": "7c303656",
   "metadata": {},
   "source": [
    "This lab sheet is part of the lecture COM[3502](http://www.dcs.shef.ac.uk/intranet/teaching/public/modules/level3/com3502.html \"Open web page for COM3502 module\")-[4502](http://www.dcs.shef.ac.uk/intranet/teaching/public/modules/level4/com4502.html \"Open web page for COM4502 module\")-[6502](http://www.dcs.shef.ac.uk/intranet/teaching/public/modules/msc/com6502.html \"Open web page for COM4502 module\") Speech Processing at the [University of Sheffield](https://www.sheffield.ac.uk/ \"Open web page of The University of Sheffield\"), Dept. of [Computer Science](https://www.sheffield.ac.uk/dcs \"Open web page of Department of Computer Science, University of Sheffield\")."
   ]
  },
  {
   "cell_type": "markdown",
   "id": "04248901",
   "metadata": {},
   "source": [
    "It is probably easiest to open this Jupyter Notebook with [Google Colab](https://colab.research.google.com/notebooks/intro.ipynb#recent=true \"Open in Google Colab\") since GitHub's Viewer does not always show all details correctly. <a href=\"https://colab.research.google.com/github/sap-shef/SpeechProcesssingLab/blob/main/Lab-Sheets/Lab-Sheet-8.ipynb\"><img align=\"right\" src=\"https://colab.research.google.com/assets/colab-badge.svg\" alt=\"Open Notebook in Google Colab\" title=\"Open and Execute the Notebook directly in Google Colaboratory\"></a>\n",
    "\n",
    "Please put questions, comments and correction suggestions in the [Blackboard](https://vle.shef.ac.uk) discussion board or send an email to [s.goetze@sheffield.ac.uk](mailto:s.goetze@sheffield.ac.uk)."
   ]
  },
  {
   "cell_type": "code",
   "execution_count": 2,
   "id": "d33f3d61",
   "metadata": {},
   "outputs": [],
   "source": [
    "# Do the ususal necessary and nice-to-have imports\n",
    "# ...."
   ]
  },
  {
   "cell_type": "markdown",
   "id": "6f9c0f2e",
   "metadata": {},
   "source": [
    "<br>\n",
    "<a id='task_1'></a>\n",
    "<div style=\"border: 2px solid #999; padding: 10px; background: #eee;\">\n",
    "    \n",
    "**Task 1:**\n",
    "    \n",
    "<ul>\n",
    "<li> \n",
    "    Load two WAVE files containing speech and noise, e.g. <code>speech_8kHz_murder.wav</code> and <code>noise_8kHz.wav</code> from the Internet address <code>https://staffwww.dcs.shef.ac.uk/people/S.Goetze/sound/</code> and load them into two variables <code>s</code> and <code>n</code>.\n",
    "</li> \n",
    "  <li>   \n",
    "    Create a microphone signal $y[k] = s[k]+n[k]$ as shown in the schematic below. Note that the vectors should be cut the same length if needed. Also note that we will do the filtering in the following.\n",
    "\n",
    "<img src=\"NRSingleChannelBasic-web.png\" align=\"center\"/>\n",
    "    </li> \n",
    "</ul>\n",
    "</div>"
   ]
  },
  {
   "cell_type": "code",
   "execution_count": 3,
   "id": "0da2a9d8",
   "metadata": {},
   "outputs": [],
   "source": [
    "# your code here\n",
    "# ...."
   ]
  },
  {
   "cell_type": "code",
   "execution_count": null,
   "id": "e89b148b",
   "metadata": {},
   "outputs": [],
   "source": []
  },
  {
   "cell_type": "code",
   "execution_count": null,
   "id": "3f4c9b8a",
   "metadata": {},
   "outputs": [],
   "source": []
  },
  {
   "cell_type": "code",
   "execution_count": null,
   "id": "d49c51bb",
   "metadata": {},
   "outputs": [],
   "source": []
  },
  {
   "cell_type": "code",
   "execution_count": null,
   "id": "a0408d39",
   "metadata": {},
   "outputs": [],
   "source": []
  },
  {
   "cell_type": "code",
   "execution_count": null,
   "id": "7c948d98",
   "metadata": {},
   "outputs": [],
   "source": []
  },
  {
   "cell_type": "markdown",
   "id": "8278334b",
   "metadata": {},
   "source": [
    "## Adding Reverberation by convolving with Room Impulse Responses (RIRs)\n",
    "\n",
    "Room Impulse Responses (RIRs) charaterise rooms acoustically. They can be generated from the room geometry using the [Room Impulse Response Generator](https://www.audiolabs-erlangen.de/fau/professor/habets/software/rir-generator) which has to be installed using the `!pip install rir_generator` once and can then be imported. \n",
    "\n",
    "<br>\n",
    "<a id='task_1'></a>\n",
    "<div style=\"border: 2px solid #999; padding: 10px; background: #eee;\">\n",
    "    \n",
    "**Task 1:**\n",
    "    \n",
    "<ul>\n",
    "<li> \n",
    "    Load two WAVE files containing speech and noise, e.g. <code>speech_8kHz_murder.wav</code> and <code>noise_8kHz.wav</code> from the Internet address <code>https://staffwww.dcs.shef.ac.uk/people/S.Goetze/sound/</code> and load them into two variables <code>s</code> and <code>n</code>.\n",
    "</li> \n",
    "<li> \n",
    "    a\n",
    "</li> \n",
    "</ul>\n",
    "</div>"
   ]
  },
  {
   "cell_type": "code",
   "execution_count": 7,
   "id": "dd0938a0",
   "metadata": {},
   "outputs": [
    {
     "name": "stdout",
     "output_type": "stream",
     "text": [
      "Collecting rir_generator\n",
      "  Using cached rir-generator-0.1.0.tar.gz (8.6 kB)\n",
      "Requirement already satisfied: numpy>=1.6 in c:\\users\\stefan\\anaconda3\\lib\\site-packages (from rir_generator) (1.20.3)\n",
      "Requirement already satisfied: scipy>=0.13.0 in c:\\users\\stefan\\anaconda3\\lib\\site-packages (from rir_generator) (1.7.0)\n",
      "Requirement already satisfied: cffi>=1.1.0 in c:\\users\\stefan\\anaconda3\\lib\\site-packages (from rir_generator) (1.14.5)\n",
      "Requirement already satisfied: pycparser in c:\\users\\stefan\\anaconda3\\lib\\site-packages (from cffi>=1.1.0->rir_generator) (2.20)\n",
      "Building wheels for collected packages: rir-generator\n",
      "  Building wheel for rir-generator (setup.py): started\n",
      "  Building wheel for rir-generator (setup.py): finished with status 'error'\n",
      "  Running setup.py clean for rir-generator\n",
      "Failed to build rir-generator\n",
      "Installing collected packages: rir-generator\n",
      "    Running setup.py install for rir-generator: started\n",
      "    Running setup.py install for rir-generator: finished with status 'error'\n"
     ]
    },
    {
     "name": "stderr",
     "output_type": "stream",
     "text": [
      "  ERROR: Command errored out with exit status 1:\n",
      "   command: 'C:\\Users\\stefan\\anaconda3\\python.exe' -u -c 'import io, os, sys, setuptools, tokenize; sys.argv[0] = '\"'\"'C:\\\\Users\\\\stefan\\\\AppData\\\\Local\\\\Temp\\\\pip-install-kiltfjr2\\\\rir-generator_21a94f20808649d994566fc036ad6246\\\\setup.py'\"'\"'; __file__='\"'\"'C:\\\\Users\\\\stefan\\\\AppData\\\\Local\\\\Temp\\\\pip-install-kiltfjr2\\\\rir-generator_21a94f20808649d994566fc036ad6246\\\\setup.py'\"'\"';f = getattr(tokenize, '\"'\"'open'\"'\"', open)(__file__) if os.path.exists(__file__) else io.StringIO('\"'\"'from setuptools import setup; setup()'\"'\"');code = f.read().replace('\"'\"'\\r\\n'\"'\"', '\"'\"'\\n'\"'\"');f.close();exec(compile(code, __file__, '\"'\"'exec'\"'\"'))' bdist_wheel -d 'C:\\Users\\stefan\\AppData\\Local\\Temp\\pip-wheel-vcxb2qv5'\n",
      "       cwd: C:\\Users\\stefan\\AppData\\Local\\Temp\\pip-install-kiltfjr2\\rir-generator_21a94f20808649d994566fc036ad6246\\\n",
      "  Complete output (25 lines):\n",
      "  running bdist_wheel\n",
      "  running build\n",
      "  running build_py\n",
      "  creating build\n",
      "  creating build\\lib.win-amd64-3.8\n",
      "  creating build\\lib.win-amd64-3.8\\rir_generator\n",
      "  copying rir_generator\\build.py -> build\\lib.win-amd64-3.8\\rir_generator\n",
      "  copying rir_generator\\__init__.py -> build\\lib.win-amd64-3.8\\rir_generator\n",
      "  running egg_info\n",
      "  writing rir_generator.egg-info\\PKG-INFO\n",
      "  writing dependency_links to rir_generator.egg-info\\dependency_links.txt\n",
      "  writing requirements to rir_generator.egg-info\\requires.txt\n",
      "  writing top-level names to rir_generator.egg-info\\top_level.txt\n",
      "  reading manifest file 'rir_generator.egg-info\\SOURCES.txt'\n",
      "  reading manifest template 'MANIFEST.in'\n",
      "  writing manifest file 'rir_generator.egg-info\\SOURCES.txt'\n",
      "  creating build\\lib.win-amd64-3.8\\rir_generator\\_rir\n",
      "  copying rir_generator\\_rir\\rir_generator_core.cpp -> build\\lib.win-amd64-3.8\\rir_generator\\_rir\n",
      "  copying rir_generator\\_rir\\rir_generator_core.h -> build\\lib.win-amd64-3.8\\rir_generator\\_rir\n",
      "  running build_ext\n",
      "  generating cffi module 'build\\\\temp.win-amd64-3.8\\\\Release\\\\rir_generator.rir.c'\n",
      "  creating build\\temp.win-amd64-3.8\n",
      "  creating build\\temp.win-amd64-3.8\\Release\n",
      "  building 'rir_generator.rir' extension\n",
      "  error: Microsoft Visual C++ 14.0 or greater is required. Get it with \"Microsoft C++ Build Tools\": https://visualstudio.microsoft.com/visual-cpp-build-tools/\n",
      "  ----------------------------------------\n",
      "  ERROR: Failed building wheel for rir-generator\n",
      "    ERROR: Command errored out with exit status 1:\n",
      "     command: 'C:\\Users\\stefan\\anaconda3\\python.exe' -u -c 'import io, os, sys, setuptools, tokenize; sys.argv[0] = '\"'\"'C:\\\\Users\\\\stefan\\\\AppData\\\\Local\\\\Temp\\\\pip-install-kiltfjr2\\\\rir-generator_21a94f20808649d994566fc036ad6246\\\\setup.py'\"'\"'; __file__='\"'\"'C:\\\\Users\\\\stefan\\\\AppData\\\\Local\\\\Temp\\\\pip-install-kiltfjr2\\\\rir-generator_21a94f20808649d994566fc036ad6246\\\\setup.py'\"'\"';f = getattr(tokenize, '\"'\"'open'\"'\"', open)(__file__) if os.path.exists(__file__) else io.StringIO('\"'\"'from setuptools import setup; setup()'\"'\"');code = f.read().replace('\"'\"'\\r\\n'\"'\"', '\"'\"'\\n'\"'\"');f.close();exec(compile(code, __file__, '\"'\"'exec'\"'\"'))' install --record 'C:\\Users\\stefan\\AppData\\Local\\Temp\\pip-record-qex5_2p5\\install-record.txt' --single-version-externally-managed --compile --install-headers 'C:\\Users\\stefan\\anaconda3\\Include\\rir-generator'\n",
      "         cwd: C:\\Users\\stefan\\AppData\\Local\\Temp\\pip-install-kiltfjr2\\rir-generator_21a94f20808649d994566fc036ad6246\\\n",
      "    Complete output (25 lines):\n",
      "    running install\n",
      "    running build\n",
      "    running build_py\n",
      "    creating build\n",
      "    creating build\\lib.win-amd64-3.8\n",
      "    creating build\\lib.win-amd64-3.8\\rir_generator\n",
      "    copying rir_generator\\build.py -> build\\lib.win-amd64-3.8\\rir_generator\n",
      "    copying rir_generator\\__init__.py -> build\\lib.win-amd64-3.8\\rir_generator\n",
      "    running egg_info\n",
      "    writing rir_generator.egg-info\\PKG-INFO\n",
      "    writing dependency_links to rir_generator.egg-info\\dependency_links.txt\n",
      "    writing requirements to rir_generator.egg-info\\requires.txt\n",
      "    writing top-level names to rir_generator.egg-info\\top_level.txt\n",
      "    reading manifest file 'rir_generator.egg-info\\SOURCES.txt'\n",
      "    reading manifest template 'MANIFEST.in'\n",
      "    writing manifest file 'rir_generator.egg-info\\SOURCES.txt'\n",
      "    creating build\\lib.win-amd64-3.8\\rir_generator\\_rir\n",
      "    copying rir_generator\\_rir\\rir_generator_core.cpp -> build\\lib.win-amd64-3.8\\rir_generator\\_rir\n",
      "    copying rir_generator\\_rir\\rir_generator_core.h -> build\\lib.win-amd64-3.8\\rir_generator\\_rir\n",
      "    running build_ext\n",
      "    generating cffi module 'build\\\\temp.win-amd64-3.8\\\\Release\\\\rir_generator.rir.c'\n",
      "    creating build\\temp.win-amd64-3.8\n",
      "    creating build\\temp.win-amd64-3.8\\Release\n",
      "    building 'rir_generator.rir' extension\n",
      "    error: Microsoft Visual C++ 14.0 or greater is required. Get it with \"Microsoft C++ Build Tools\": https://visualstudio.microsoft.com/visual-cpp-build-tools/\n",
      "    ----------------------------------------\n",
      "ERROR: Command errored out with exit status 1: 'C:\\Users\\stefan\\anaconda3\\python.exe' -u -c 'import io, os, sys, setuptools, tokenize; sys.argv[0] = '\"'\"'C:\\\\Users\\\\stefan\\\\AppData\\\\Local\\\\Temp\\\\pip-install-kiltfjr2\\\\rir-generator_21a94f20808649d994566fc036ad6246\\\\setup.py'\"'\"'; __file__='\"'\"'C:\\\\Users\\\\stefan\\\\AppData\\\\Local\\\\Temp\\\\pip-install-kiltfjr2\\\\rir-generator_21a94f20808649d994566fc036ad6246\\\\setup.py'\"'\"';f = getattr(tokenize, '\"'\"'open'\"'\"', open)(__file__) if os.path.exists(__file__) else io.StringIO('\"'\"'from setuptools import setup; setup()'\"'\"');code = f.read().replace('\"'\"'\\r\\n'\"'\"', '\"'\"'\\n'\"'\"');f.close();exec(compile(code, __file__, '\"'\"'exec'\"'\"'))' install --record 'C:\\Users\\stefan\\AppData\\Local\\Temp\\pip-record-qex5_2p5\\install-record.txt' --single-version-externally-managed --compile --install-headers 'C:\\Users\\stefan\\anaconda3\\Include\\rir-generator' Check the logs for full command output.\n"
     ]
    },
    {
     "ename": "ModuleNotFoundError",
     "evalue": "No module named 'rir_generator'",
     "output_type": "error",
     "traceback": [
      "\u001b[1;31m---------------------------------------------------------------------------\u001b[0m",
      "\u001b[1;31mModuleNotFoundError\u001b[0m                       Traceback (most recent call last)",
      "\u001b[1;32m~\\AppData\\Local\\Temp/ipykernel_1668/1905785553.py\u001b[0m in \u001b[0;36m<module>\u001b[1;34m\u001b[0m\n\u001b[0;32m      1\u001b[0m \u001b[1;31m# uncomment the following line if you need to install\u001b[0m\u001b[1;33m\u001b[0m\u001b[1;33m\u001b[0m\u001b[1;33m\u001b[0m\u001b[0m\n\u001b[0;32m      2\u001b[0m \u001b[0mget_ipython\u001b[0m\u001b[1;33m(\u001b[0m\u001b[1;33m)\u001b[0m\u001b[1;33m.\u001b[0m\u001b[0msystem\u001b[0m\u001b[1;33m(\u001b[0m\u001b[1;34m'pip install rir_generator'\u001b[0m\u001b[1;33m)\u001b[0m\u001b[1;33m\u001b[0m\u001b[1;33m\u001b[0m\u001b[0m\n\u001b[1;32m----> 3\u001b[1;33m \u001b[1;32mimport\u001b[0m \u001b[0mrir_generator\u001b[0m \u001b[1;32mas\u001b[0m \u001b[0mrir\u001b[0m\u001b[1;33m\u001b[0m\u001b[1;33m\u001b[0m\u001b[0m\n\u001b[0m",
      "\u001b[1;31mModuleNotFoundError\u001b[0m: No module named 'rir_generator'"
     ]
    }
   ],
   "source": [
    "# uncomment the following line if you need to install\n",
    "!pip install rir_generator \n",
    "import rir_generator as rir"
   ]
  },
  {
   "cell_type": "markdown",
   "id": "85166cfb",
   "metadata": {},
   "source": [
    "## Copyright\n",
    "\n",
    "This notebook is licensed to be used during the lecture COM[3502](http://www.dcs.shef.ac.uk/intranet/teaching/public/modules/level3/com3502.html \"Open web page for COM3502 module\")-[4502](http://www.dcs.shef.ac.uk/intranet/teaching/public/modules/level4/com4502.html \"Open web page for COM4502 module\")-[6502](http://www.dcs.shef.ac.uk/intranet/teaching/public/modules/msc/com6502.html \"Open web page for COM4502 module\") Speech Processing at the [University of Sheffield](https://www.sheffield.ac.uk/ \"Open web page of The University of Sheffield\"), Dept. of [Computer Science](https://www.sheffield.ac.uk/dcs \"Open web page of Department of Computer Science, University of Sheffield\"). Any further use (beyond use for the lecture) is only permitted if agreed with the [module lead](mailto:s.goetze@sheffield.ac.uk). "
   ]
  }
 ],
 "metadata": {
  "kernelspec": {
   "display_name": "Python 3 (ipykernel)",
   "language": "python",
   "name": "python3"
  },
  "language_info": {
   "codemirror_mode": {
    "name": "ipython",
    "version": 3
   },
   "file_extension": ".py",
   "mimetype": "text/x-python",
   "name": "python",
   "nbconvert_exporter": "python",
   "pygments_lexer": "ipython3",
   "version": "3.8.3"
  }
 },
 "nbformat": 4,
 "nbformat_minor": 5
}
