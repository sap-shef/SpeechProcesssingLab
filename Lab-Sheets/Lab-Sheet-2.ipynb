{
 "cells": [
  {
   "cell_type": "markdown",
   "id": "dee102d7",
   "metadata": {},
   "source": [
    "# Lab Sheet 2 (COM3502-4502-6502 Speech Processing)"
   ]
  },
  {
   "cell_type": "markdown",
   "id": "f28a56fe",
   "metadata": {},
   "source": [
    "This lab sheet is part of the lecture COM[3502](http://www.dcs.shef.ac.uk/intranet/teaching/public/modules/level3/com3502.html \"Open web page for COM3502 module\")-[4502](http://www.dcs.shef.ac.uk/intranet/teaching/public/modules/level4/com4502.html \"Open web page for COM4502 module\")-[6502](http://www.dcs.shef.ac.uk/intranet/teaching/public/modules/msc/com6502.html \"Open web page for COM4502 module\") Speech Processing at the [University of Sheffield](https://www.sheffield.ac.uk/ \"Open web page of The University of Sheffield\"), Dept. of [Computer Science](https://www.sheffield.ac.uk/dcs \"Open web page of Department of Computer Science, University of Sheffield\")."
   ]
  },
  {
   "cell_type": "markdown",
   "id": "51725272",
   "metadata": {},
   "source": [
    "It is probably easiest to open this Jupyter Notebook with [Google Colab](https://colab.research.google.com/notebooks/intro.ipynb#recent=true \"Open in Google Colab\") by clicking on the icon on the right, but this notebook is displayed best when opened locally using Jupyter Notebook (e.g. as part of the [Anaconda](https://www.anaconda.com/) distribution which is already installed on the lab computers). <a href=\"https://colab.research.google.com/github/sap-shef/SpeechProcesssingLab/blob/main/Lab-Sheets/Lab-Sheet-2.ipynb\"><img align=\"right\" src=\"https://colab.research.google.com/assets/colab-badge.svg\" alt=\"Open Notebook in Google Colab\" title=\"Open and Execute the Notebook directly in Google Colaboratory\"></a>\n",
    "\n",
    "Please put questions, comments and correction suggestions in the [Blackboard](https://vle.shef.ac.uk) discussion board or send an email to [s.goetze@sheffield.ac.uk](mailto:s.goetze@sheffield.ac.uk)."
   ]
  },
  {
   "cell_type": "markdown",
   "id": "9665256f",
   "metadata": {},
   "source": [
    "<div class=\"alert alert-block alert-success\">\n",
    "<strong>Intended Learning Objectives (ILOs):</strong><br>\n",
    "    \n",
    "After completing this Jupyter Notenook you should\n",
    "    \n",
    "<ul>\n",
    "<li>be able to write and call a function in Python\n",
    "</li>\n",
    "<li>generate a concert pitch signal\n",
    "</li>\n",
    "<li>cut out a desired part from a given vector and concatenate vectors\n",
    "</li>\n",
    "<li>understand the concept of signal superposition\n",
    "</li>\n",
    "<li>understand the relation between frequency $f$ and notes played by a musical instrument\n",
    "</li>\n",
    "<li>understand differences in sampling frequencz $f_s$ and how to resample signals using the <code>librosa</code> library\n",
    "</li>\n",
    "    \n",
    "<li>understand basic use of <code>Python</code> command(s) \n",
    "    <ul>\n",
    "        <li><code>None</code></li>\n",
    "    </ul> and functions from the <code>Python</code> libraries \n",
    "    <ul>\n",
    "    <li><a href=\"https://matplotlib.org/\"><code>Matplotlib</code></a> for graphical output (like \n",
    "        <a href=\"https://matplotlib.org/stable/api/_as_gen/matplotlib.pyplot.specgram.html\"><code>specgram()</code></a>, \n",
    "        etc.)\n",
    "    </li>\n",
    "    <li><a href=\"https://numpy.org/doc/stable/index.html\"><code>Numpy</code></a> command \n",
    "        <a href=\"https://numpy.org/doc/stable/reference/generated/numpy.concatenate.html\"><code>concatenate()</code></a>, \n",
    "        <a href=\"https://numpy.org/doc/stable/reference/generated/numpy.exp.html\"><code>exp()</code></a>,\n",
    "        etc.\n",
    "    </li>\n",
    "    <li><a href=\"https://librosa.org/doc/main/index.html\"><code>librosa</code></a> command \n",
    "        <a href=\"https://librosa.org/doc/main/generated/librosa.resample.html\"><code>resample()</code></a>, \n",
    "        etc.\n",
    "    </li>\n",
    "    </ul>\n",
    "</li>\n",
    "</ul>\n",
    "</div>"
   ]
  },
  {
   "cell_type": "code",
   "execution_count": null,
   "id": "f80929e0",
   "metadata": {},
   "outputs": [],
   "source": [
    "# Let's do some necessary and nice-to-have imports\n",
    "%matplotlib inline\n",
    "import matplotlib.pyplot as plt  # plotting\n",
    "import seaborn as sns; sns.set() # styling (optional)\n",
    "import numpy as np               # math"
   ]
  },
  {
   "cell_type": "markdown",
   "id": "1b40966a",
   "metadata": {},
   "source": [
    "## Generate sine wave\n",
    "\n",
    "We are already familiar with generating sine signals from last lab sheet. Since we will need a lot of sine signals this time, it makes sense to create a function calculating a sine.\n",
    "<br>\n",
    "<div class=\"alert alert-block alert-info\">\n",
    "    \n",
    "**Task 1: A function to create sine waves**\n",
    "    \n",
    "Please write a function <code>get_sine_wave(frequency_hz, length_s, sample_rate_hz)</code> which returns a sine wave with the given frequency $f$ and duration (in seconds) at the desired sample rate $f_s$.\n",
    "</div>\n"
   ]
  },
  {
   "cell_type": "code",
   "execution_count": null,
   "id": "42065eb0",
   "metadata": {},
   "outputs": [],
   "source": [
    "def get_sine_wave(frequency_Hz, length_s=1, fs_Hz=8000):\n",
    "    \"\"\"\n",
    "    Return a sine wave with given parameters.\n",
    "    \n",
    "    Parameters\n",
    "    ----------\n",
    "    frequency_Hz : float\n",
    "        frequency $f$ of the sinus to be generated \n",
    "    length_s : float, optional\n",
    "        length of the sine signal to be generated, default: 1 sec.\n",
    "    fs_Hz : float, optional\n",
    "        sampling frequency $f_s$ in Hz, default: 8000 Hz\n",
    "\n",
    "    Returns\n",
    "    -------\n",
    "    signal\n",
    "        generated sinus signal\n",
    "    \"\"\"\n",
    "    \n",
    "    # your code here\n",
    "    \n",
    "    #return ... # let the function return the sinus signal"
   ]
  },
  {
   "cell_type": "markdown",
   "id": "dfae0cfa",
   "metadata": {},
   "source": [
    "Typical sampling rates are $8000 \\,\\mathrm{Hz}$ or $16000 \\,\\mathrm{Hz}$ for speech signals and $22050 \\,\\mathrm{Hz}$ , $44100 \\,\\mathrm{Hz}$ or $48000 \\,\\mathrm{Hz}$ for music. We will now use a sampling rate of $8000 \\,\\mathrm{Hz}$. Further down in this lab sheet we will play around with sampling frequencies.\n",
    "\n",
    "Sound signls perceiveable by humans are roughly in the range of $20 \\,\\mathrm{Hz}$ to $20 000 \\,\\mathrm{Hz}$ (for older persons typically the theoretical upper limit of $20 \\,\\mathrm{kHz}$ would be lower). \n",
    "\n",
    "The so called [concert pitch](https://en.wikipedia.org/wiki/Concert_pitch \"Open Wikipedia for more information on Concert Pitch\") is at $440 \\,\\mathrm{Hz}$.\n",
    "We now want to generate a concert pitch sine wave of length $2$ seconds with at the sample rate mentioned above and then look at a part of the generated signal to check that it actually resembles a sine wave.\n",
    "<br>\n",
    "<div class=\"alert alert-block alert-info\">\n",
    "    \n",
    "**Task 2: Visualise the sine wave**\n",
    "    \n",
    "Generate and visualise the a concert pitch signal of $2$ seconds length, i.e. the sine signal of frequency $f=440 \\,\\mathrm{Hz}$, and listen to it. Plese note, that for visualising (plotting) you might want to only plot the first samples. The initial samples of a vector can be selected by `variable_name[0:number_of_samples]` or shorter by `variable_name[:number_of_samples]`. \n",
    "</div>"
   ]
  },
  {
   "cell_type": "code",
   "execution_count": null,
   "id": "905e9909",
   "metadata": {},
   "outputs": [],
   "source": [
    "# please complete the following code:\n",
    "\n",
    "# concert_pitch = get_sine_wave(...\n",
    "\n",
    "# Look at the first 30 ms (240 / 8000 Hz = 0.03 s) of the generated wave\n",
    "#plt.plot(concert_pitch[:240])\n",
    "#plt.xlabel(...\n",
    "#plt.ylabel(...\n",
    "#plt.title(...\n",
    "None # This command does nothing but prevents printing the result of previous function call"
   ]
  },
  {
   "cell_type": "markdown",
   "id": "d9831746",
   "metadata": {},
   "source": [
    "We can concatenate signals to form a longer signal.\n",
    "As an example we want to create a new signal with half the concert pitch frequency (which we call `half_concert_pitch`) and then play it 2 times alternating with the concert pitch. `numpy`'s `np.concatenate(...)` might be useful for this task.\n",
    "<br>\n",
    "<div class=\"alert alert-block alert-info\">\n",
    "    \n",
    "**Task 3: Concatenate sine waves of different frequency**\n",
    "    \n",
    "<ul>\n",
    "<li> Generate a second sine signal of same length but with only half the frequency. \n",
    "</li> \n",
    "<li> Visualise the generated signal, i.e. the sine signal of frequence $f=220 \\,\\mathrm{Hz}$. Concetenate the signal blocks alternating to create a signal of 8 seconds. and listen to it.  \n",
    "</li> \n",
    "</ul>\n",
    "</div>"
   ]
  },
  {
   "cell_type": "code",
   "execution_count": null,
   "id": "bd549026",
   "metadata": {},
   "outputs": [],
   "source": [
    "# your code here\n",
    "# half_concert_pitch = get_sine_wave(...\n",
    "\n",
    "# plot\n",
    "\n",
    "# alternation = np.concatenate(...\n",
    "\n",
    "# play alternating signal\n",
    "# ..."
   ]
  },
  {
   "cell_type": "markdown",
   "id": "ccd4b0ec",
   "metadata": {},
   "source": [
    "Adding together two signals results in a signal for which both frequencies can be heard.\n",
    "The resulting signal does not look like a sine wave anymore (in time domain) but we can still clearly see its periodicity.\n",
    "The periodicity is so promiment because one frequency is a multiple of the other.\n",
    "If this is not the case it can take much longer for the signal to repeat its pattern.\n",
    "<br>\n",
    "<div class=\"alert alert-block alert-info\">\n",
    "    \n",
    "**Task 4: Superposition**\n",
    "    \n",
    "Add, visualise and play a superposition (addition) of two sine signals for which the frequency is close together than in the example before.\n",
    "</div>"
   ]
  },
  {
   "cell_type": "code",
   "execution_count": null,
   "id": "a9085da3",
   "metadata": {},
   "outputs": [],
   "source": [
    "# your code here\n",
    "# ..."
   ]
  },
  {
   "cell_type": "markdown",
   "id": "f8ddc2d0",
   "metadata": {},
   "source": [
    "## Damped sine \n",
    "\n",
    "\n",
    "A damped sine can be defined as\n",
    "\n",
    "\\begin{equation}\n",
    "x(t) = \\mathrm{sin}(2 \\pi f t) \\, \\mathrm{e}^{- a t}.\n",
    "\\label{eq:damped-sinus}\n",
    "\\tag{1}\n",
    "\\end{equation}\n",
    "<br>\n",
    "<div class=\"alert alert-block alert-info\">\n",
    "    \n",
    "**Task 5: Damped sine wave**\n",
    "    \n",
    "<ul>\n",
    "<li> Create a sine with $f=2.5$ Hz of $1$ second length and plot it. \n",
    "</li> \n",
    "<li> Create the damped sinus according to \\eqref{eq:damped-sinus} from the just created sine wave. \n",
    "</li> \n",
    "<li> Play around with the damping factor $a$.\n",
    "</li> \n",
    "</ul> \n",
    "</div>"
   ]
  },
  {
   "cell_type": "code",
   "execution_count": null,
   "id": "d1aea3db",
   "metadata": {},
   "outputs": [],
   "source": [
    "fs=8000\n",
    "#t=np.arange(0...) # crete time vector of 1 second length\n",
    "#f = 2.5               # frequency for sine (2.5 Hz)\n",
    "#a = 1             # daming factor (play around with it and see what happens)\n",
    "\n",
    "#sin  = ... # add code here\n",
    "#damp = np.exp(-a*t)\n",
    "#x = sin * damp\n",
    "\n",
    "plt.subplot(2,1,1);\n",
    "#plt.plot(t,sin)\n",
    "#plt.ylabel(...) # complete code here\n",
    "\n",
    "plt.subplot(2,1,2);\n",
    "#plt.plot(t,x, label='sin$(2 \\pi \\cdot ' + str(f) + ' \\mathrm{Hz} \\cdot t) \\cdot \\mathrm{e}^{- a t}$')\n",
    "#plt.plot(t,damp, '--', label='$\\mathrm{e}^{- a t}$')\n",
    "#plt.legend()\n",
    "#plt.xlabel('$t$ in seconds'); # the ; also suppresses output, try to delete it"
   ]
  },
  {
   "cell_type": "markdown",
   "id": "5f45e2ab",
   "metadata": {},
   "source": [
    "## Play a song \n",
    "\n",
    "By generating sine waves of different lengths and frequencies using the function `get_sine_wave` you are now able to play simple songs. \n",
    "\n",
    "The picture below shows the relation of musical notes to keys of a keyboard.\n",
    "\n",
    "<img src=\"notes-vs-keys.png\" alt=\"Relation between notes and keys of a keyboard.\" style=\"width: 500px;\"/>\n",
    "\n",
    "We already learned that each note has a fundamental [frequency](https://pages.mtu.edu/~suits/notefreqs.html), e.g. as in the following table:\n",
    "\n",
    "| note      | ... |   G3   |   A3   |   B3   |   C4   |   D4   |   E4   |   F4   |   G4   |     A4     |  ...  |\n",
    "| --------- | --- | ------ | ------ | ------ | ------ | ------ | ------ | ------ | ------ | ---------- |  ---- |\n",
    "| $f$ in Hz | ... | 196.00 | 220.00 | 246.94 | 261.63 | 293.66 | 329.63 | 349.23 | 392.00 | **440.00** |  ...  |\n",
    "\n",
    "Just FYI (knowledge not necessary to solve the task, but maybe nevertheless of interest for some of you):\n",
    "* The [note A4](https://en.wikipedia.org/wiki/A_(musical_note)) is our reference point and is defined having a frequency of [440 Hz](https://en.wikipedia.org/wiki/A440_(pitch_standard)) (which is why it is marked by bold font in the table  above)\n",
    "* one [octave](https://en.wikipedia.org/wiki/Octave), e.g. from C to the next C (or from A to the next A), means doubling the frequency\n",
    "* In general, we can calculate the frequency of a tone by the following equaltion (but it's probaly easier to look it up, e.g. using the link above):\n",
    "\n",
    "\\begin{equation}\n",
    "f = 440 \\cdot 2 ^{(\\mathrm{note-position} / 12) + (\\mathrm{octave} - 4)}\n",
    "\\end{equation}\n",
    "\n",
    "<br>\n",
    "<div class=\"alert alert-block alert-info\">\n",
    "    \n",
    "**Task 6: Create and play a song**\n",
    "    \n",
    "Create notes G3, A3, B3, D4, C4 and E4 and concatenate the sounds to create your first song.\n",
    "</div>"
   ]
  },
  {
   "cell_type": "code",
   "execution_count": null,
   "id": "9093fd12",
   "metadata": {},
   "outputs": [],
   "source": [
    "# create basic tones\n",
    "#g = get_sine_wave(196.00)\n",
    "#a = get_sine_wave(...\n",
    "#...\n",
    "\n",
    "# append together to form tune + chord \n",
    "#tune = [b,d,a,g,a,b,d,(g+b+d)]\n",
    "#tune = np.concatenate(tune)\n",
    "\n",
    "# play-back:\n",
    "# plot:\n"
   ]
  },
  {
   "cell_type": "markdown",
   "id": "b7082c60",
   "metadata": {},
   "source": [
    "<div class=\"alert alert-block alert-info\">\n",
    "    \n",
    "**Task 7: Create and play a song using damped sine signal parts**\n",
    "    \n",
    "Repeat Task 6, but this time creating damped tones (remember equation (<a href=\"#mjx-eqn-eq:damped-sinus\">1</a>)). \n",
    "</div>"
   ]
  },
  {
   "cell_type": "code",
   "execution_count": null,
   "id": "3123e974",
   "metadata": {},
   "outputs": [],
   "source": [
    "# your code here\n",
    "#..."
   ]
  },
  {
   "cell_type": "markdown",
   "id": "b2b238c5",
   "metadata": {},
   "source": [
    "## Sampling Rate\n",
    "<div class=\"alert alert-block alert-info\">\n",
    "    \n",
    "**Task 8: Different Sampling Frequencies**\n",
    "\n",
    "<ul> \n",
    "<li> Download the wave file <code>https://staffwww.dcs.shef.ac.uk/people/S.Goetze/sound/music_44k.wav</code> and load it into a variable.\n",
    "</li> \n",
    "<li> Change the sampling frequency from $44.1 \\,\\mathrm{kHz}$ (which is the original sampling frequency of the loaded WAVE file) to $8 \\,\\mathrm{kHz}$. Then change the sampling frequency back to $44.1 \\,\\mathrm{kHz}$. This can be done using the command <code>resample</code> from the <code>librosa</code> library.\n",
    "</li> \n",
    "<li> Plot both signals as a time-frequency representation, i.e. as a spectrogram. This can easily be achieved uning the <a href=\"https://matplotlib.org/stable/api/_as_gen/matplotlib.pyplot.specgram.html\"><code>specgram()</code></a> command from the <code>matplotlib</code> library.\n",
    "</li> \n",
    "</ul> \n",
    "</div>\n",
    "\n",
    "Hint: have a look at last week's lab sheet for loading sound files."
   ]
  },
  {
   "cell_type": "code",
   "execution_count": null,
   "id": "d8e31fdd",
   "metadata": {},
   "outputs": [],
   "source": [
    "# Download the wave file `https://staffwww.dcs.shef.ac.uk/people/S.Goetze/sound/music_44k.wav`\n",
    "\n",
    "# your code here \n",
    "\n",
    "# load it into a variable.\n",
    "# mus_44k, fs44 = ....  # complete code here"
   ]
  },
  {
   "cell_type": "markdown",
   "id": "cc90f2fb",
   "metadata": {},
   "source": [
    "You should see in the plotted spectrograms that information above $4 \\,\\mathrm{kHz}$ originally contained in the signal is now lost.\n",
    "\n",
    "Note, that if you get an error like \n",
    "```python\n",
    "ModuleNotFoundError: No module named 'librosa'\n",
    "```\n",
    "you might want to add (i.e. install) the `librosa` library with the following code:\n",
    "```python\n",
    "!pip install librosa\n",
    "```\n",
    "or by \n",
    "```python\n",
    "!conda install -c conda-forge librosa\n",
    "```"
   ]
  },
  {
   "cell_type": "code",
   "execution_count": null,
   "id": "b66c7024",
   "metadata": {},
   "outputs": [],
   "source": [
    "#!pip install librosa\n",
    "# uncomment the previous line for one run if librosa is not yet installed\n",
    "\n",
    "import librosa         # we will use librosa here for resampling\n",
    "\n",
    "#mus_8k = librosa.resample(mus_44k, fs44, 8000); # resample to 8 kHz\n",
    "# .....     # resample back to 44.1 kHz\n",
    "\n",
    "# compare in terms of spectrograms\n",
    "plt.subplot(1,2,1)\n",
    "#plt.specgram(mus_44k, Fs=fs44);\n",
    "plt.subplot(1,2,2)\n",
    "#plt.specgram(mus_44k_2, Fs=fs44);"
   ]
  },
  {
   "cell_type": "markdown",
   "id": "314a2daa",
   "metadata": {},
   "source": [
    "## Copyright\n",
    "\n",
    "This notebook is licensed under [Creative Commons Attribution 4.0](https://creativecommons.org/licenses/by/4.0/) to be used during the lecture COM[3502](http://www.dcs.shef.ac.uk/intranet/teaching/public/modules/level3/com3502.html \"Open web page for COM3502 module\")-[4502](http://www.dcs.shef.ac.uk/intranet/teaching/public/modules/level4/com4502.html \"Open web page for COM4502 module\")-[6502](http://www.dcs.shef.ac.uk/intranet/teaching/public/modules/msc/com6502.html \"Open web page for COM4502 module\") Speech Processing at the [University of Sheffield](https://www.sheffield.ac.uk/ \"Open web page of The University of Sheffield\"), Dept. of [Computer Science](https://www.sheffield.ac.uk/dcs \"Open web page of Department of Computer Science, University of Sheffield\"). You may download, [clone](https://docs.github.com/en/repositories/creating-and-managing-repositories/cloning-a-repository) or [fork](https://docs.github.com/en/get-started/quickstart/fork-a-repo) it to your computer or private [GitHub](https://github.com/) account. "
   ]
  }
 ],
 "metadata": {
  "kernelspec": {
   "display_name": "Python 3 (ipykernel)",
   "language": "python",
   "name": "python3"
  },
  "language_info": {
   "codemirror_mode": {
    "name": "ipython",
    "version": 3
   },
   "file_extension": ".py",
   "mimetype": "text/x-python",
   "name": "python",
   "nbconvert_exporter": "python",
   "pygments_lexer": "ipython3",
   "version": "3.9.7"
  }
 },
 "nbformat": 4,
 "nbformat_minor": 5
}
