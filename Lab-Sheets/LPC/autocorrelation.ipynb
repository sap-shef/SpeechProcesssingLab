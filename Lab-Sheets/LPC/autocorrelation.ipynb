{
 "cells": [
  {
   "cell_type": "markdown",
   "metadata": {},
   "source": [
    "# Part of Lab-Sheet 9  (COM3502-4502-6502 Speech Processing)\n",
    "\n",
    "This lab sheet is part of the lecture COM[3502](http://www.dcs.shef.ac.uk/intranet/teaching/public/modules/level3/com3502.html \"Open web page for COM3502 module\")-[4502](http://www.dcs.shef.ac.uk/intranet/teaching/public/modules/level4/com4502.html \"Open web page for COM4502 module\")-[6502](http://www.dcs.shef.ac.uk/intranet/teaching/public/modules/msc/com6502.html \"Open web page for COM4502 module\") Speech Processing at the [University of Sheffield](https://www.sheffield.ac.uk/ \"Open web page of The University of Sheffield\"), Dept. of [Computer Science](https://www.sheffield.ac.uk/dcs \"Open web page of Department of Computer Science, University of Sheffield\").\n",
    "\n",
    "***\n",
    "\n",
    "It is probably easiest to open this Jupyter Notebook with [Google Colab](https://colab.research.google.com/notebooks/intro.ipynb#recent=true \"Open in Google Colab\") since GitHub's Viewer does not always show all details correctly. <a href=\"https://colab.research.google.com/github/sap-shef/SpeechProcesssingLab/blob/main/Lab-Sheets/LPC/autocorrelation.ipynb\"><img align=\"right\" src=\"https://colab.research.google.com/assets/colab-badge.svg\" alt=\"Open Notebook in Google Colab\" title=\"Open and Execute the Notebook directly in Google Colaboratory\"></a>\n",
    "\n",
    "Please put questions, comments and correction suggestions in the [Blackboard](https://vle.shef.ac.uk) discussion board or send an email to [s.goetze@sheffield.ac.uk](mailto:s.goetze@sheffield.ac.uk).\n",
    "\n",
    "## Autocorrelation of Signals\n",
    "\n",
    "\n",
    "<br>\n",
    "<a id='Info'></a>\n",
    "<div style=\"border: 2px solid #999; padding: 10px; background: #eee;\">\n",
    "    \n",
    "**General Information**\n",
    "    \n",
    "<ul>\n",
    "<li> \n",
    "    This Notebooks repeats knowledge from <a href=\"./../Lab-Sheet-7.ipynb\">Lab-Sheet 7</a> (see <a href=\"https://colab.research.google.com/github/sap-shef/SpeechProcesssingLab/blob/main/Lab-Sheet-Solutions/Lab-Sheet-7-Solution.ipynb\">here for  Solution of Lab-Sheet 7</a> in Google Colab), with minor implementation differences, i.e. the code is written function-based to be used by the <a href=\"./fundamental_frequency.ipynb\">Fundamental Frequency Estimation Notebook</a>.\n",
    "</li>     \n",
    "</ul>\n",
    "</div>"
   ]
  },
  {
   "cell_type": "markdown",
   "metadata": {},
   "source": [
    "## Navigation\n",
    "\n",
    "![Autocorrelation needs Correlation and is needed for Fundamental Frequency](images/flow_autocorrelation.svg)\n",
    "\n",
    "This Lab Sheet contains several Notebooks (the blue-ish colour in the picture above indicates **this** Notebook to help with navigation):\n",
    "\n",
    "* The Notebooks [`correlation.ipynb`](./correlation.ipynb),  [`autocorrelation.ipynb`](./autocorrelation.ipynb) and [`fundamental_frequency.ipynb`](./fundamental_frequency.ipynb)  repeat knowlege already known from lab sheet [Lab-Sheet 3](Lab-Sheet-3.ipynb) and [Lab-Sheet 7](Lab-Sheet-7.ipynb), respectively.\n",
    "* The Notebook [`lpc_analysis.ipynb`](./lpc_analysis.ipynb) provides some information how to analyse speech signals based on Linear Predictive Coding, i.e. how to calculate the Linear Prediction coefficients $a_i$.\n",
    "* The Notebook [`lpc_synthesis.ipynb`](./lpc_synthesis.ipynb) provides some details on the speech re-synthesis.\n",
    "* The Notebook [`lpc.ipynb`](./lpc.ipynb) contains the high level functionality."
   ]
  },
  {
   "cell_type": "markdown",
   "metadata": {},
   "source": [
    "## Intended Learning Outcomes (ILOs) for this Notebook\n",
    "\n",
    "After completing this notebook, students should be able to\n",
    "\n",
    "- *differentiate* between correlation and autocorrelation and\n",
    "- *implement* an autocorrelation function."
   ]
  },
  {
   "cell_type": "markdown",
   "metadata": {},
   "source": [
    "## Theory"
   ]
  },
  {
   "cell_type": "markdown",
   "metadata": {},
   "source": [
    "In the [previous notebook](./correlation.ipynb) we have only directly correlated two signals (of the same length) and only directly correlated a signal with itself.\n",
    "\n",
    "In general it is also very interesting and useful to know whether a signal correlates with a time-shifted version of itself.\n",
    "One of the many examples for when we need this knowledge is LPC based speech signal analysis.\n",
    "As a result we don't want to know the correlation between two signals $x[i]$ and $y[i]$ but the (auto-)correlation between $x[i]$ and $x[i-k]$, the time-shifted version of $x[i]$.\n",
    "\n",
    "We define the *autocorrelation function estimate* at a time shift $k$ of the signal $x[i]$ of length $L$ as\n",
    "$$\\hat{r}_{xx}[k] = \\frac{1}{L} \\sum_{i=1}^{L}x[i]x[i+k] = \\frac{1}{L} \\sum_{i=1}^{L-k}x[i]x[i+k]$$\n",
    "for all values of $k$ from $0$ to $L-1$, i.e., for each $k$ we correlate the non-shifted signal with a signal shifted by $k$ samples.\n",
    "We observe that the first sum is not well defined as  $x[i+k]$ is unknown for $i+k>L$.\n",
    "However, in these cases in general, signals are assumed to have infinitely many zeros before and after the actual data; we call this *zero-padding*.\n",
    "Therefore, we can stop the sum at index $L-k$ since $y[i]$ becomes zero after that point.\n",
    "The normalization must still be performed with the intended length $L$.\n",
    "Hence, the right equality holds.\n",
    "\n",
    "*Note:* Since we correlate the signal with (a shifted version of) itself it does not matter whether we shift a signal by $k$ or by $-k$.\n",
    "If the second signal is shifted by $k$ relative to the first, the first is shifted by $-k$ relative to the second.\n",
    "In other words, the autocorrelation is symmetric regarding $k=0$."
   ]
  },
  {
   "cell_type": "markdown",
   "metadata": {},
   "source": [
    "## Implementation"
   ]
  },
  {
   "cell_type": "code",
   "execution_count": null,
   "metadata": {},
   "outputs": [],
   "source": [
    "# We need the usual imports\n",
    "import numpy as np\n",
    "import matplotlib.pyplot as plt\n",
    "from matplotlib.ticker import MaxNLocator\n",
    "\n",
    "%matplotlib inline"
   ]
  },
  {
   "cell_type": "markdown",
   "metadata": {},
   "source": [
    "To obtain such an autocorrelation we need to perform the following steps:\n",
    "\n",
    "1. Go through all possible values $k$ for the time shift. In our case, if $L$ is the number of samples we shift our signal by $k=0,1,\\dots,L-1$.\n",
    "\n",
    "2. For each $k$ calculate a correlation of the original signal and the shifted signal: Perform an element-wise multiplication of the overlapping parts of both signals and normalize with the total length of the signal. *Hint: This means that we cannot reuse our `correlation` function the [correlation notebook](./correlation.ipynb).*"
   ]
  },
  {
   "cell_type": "markdown",
   "metadata": {},
   "source": [
    "**Task:** Implement the following function `autocorrelation_function` which takes a signal and should return the autocorrelation vector $\\hat{r}_{xx}[k]$ containing the correlation value for all time shifts $k=0,1,\\ldots,L-1$."
   ]
  },
  {
   "cell_type": "code",
   "execution_count": null,
   "metadata": {},
   "outputs": [],
   "source": [
    "def autocorrelation_function(signal):\n",
    "    \"\"\"Return autocorrelation results for a given signal.\n",
    "\n",
    "    We assume that the signal has 0-mean (i.e. we subtracted the signal's mean from the signal).\"\"\"\n",
    "\n",
    "    # Obtain the number of samples\n",
    "    L = len(signal)\n",
    "\n",
    "    # An array to save the correlation results for each k=0,1,...,N-1\n",
    "    r = np.zeros(L)\n",
    "\n",
    "    # Go through all tau values\n",
    "    for k in range(L):\n",
    "        # Correlate the start of the original signal with the end of the shifted signal\n",
    "        # Example (with L=9, k=4)\n",
    "        # signal[:L-k] =     [.:.:.]:.:.\n",
    "        # signal[k:]   = .:.:[.:.:.]\n",
    "        r[k] = np.dot(signal[: L - k], signal[k:]) / L\n",
    "\n",
    "    return r"
   ]
  },
  {
   "cell_type": "markdown",
   "metadata": {},
   "source": [
    "## Plotting"
   ]
  },
  {
   "cell_type": "markdown",
   "metadata": {},
   "source": [
    "The following code shows the result of the autocorrelation function for different signals."
   ]
  },
  {
   "cell_type": "code",
   "execution_count": null,
   "metadata": {},
   "outputs": [],
   "source": [
    "def plot_autocorrelation(signal, title=\"Autocorrelation\"):\n",
    "    # Ensure that the signal has mean 0 and standard deviation 1\n",
    "    signal = (signal - np.mean(signal)) / np.std(signal)\n",
    "\n",
    "    # Calculate autocorrelation vector\n",
    "    autocorrelation = autocorrelation_function(signal)\n",
    "\n",
    "    # Extract position of maximum and minimum autocorrelation value (without first entry)\n",
    "    tau_max_correlation = np.argmax(autocorrelation[1:]) + 1\n",
    "    tau_min_correlation = np.argmin(autocorrelation[1:]) + 1\n",
    "\n",
    "    fig, axs = plt.subplots(nrows=2, ncols=2, figsize=(16, 8))\n",
    "    fig.suptitle(title)\n",
    "\n",
    "    y_max = np.max(np.abs(signal)) * 1.1\n",
    "\n",
    "    # Waveform plot in the left upper panel\n",
    "    ax = axs[0, 0]\n",
    "    ax.plot(np.arange(len(signal)), signal, marker=\"o\", lw=0.3)\n",
    "    # Axes settings\n",
    "    ax.set_xlim(0, len(signal) - 1)\n",
    "    ax.xaxis.set_major_locator(MaxNLocator(integer=True))\n",
    "    ax.set_ylim(-y_max, y_max)\n",
    "    # Labels\n",
    "    ax.set_title(\"(a) Signal $x[k]$\")\n",
    "    ax.set_xlabel(\"time $k$ in samples\")\n",
    "\n",
    "    # Results of the autocorrelation in the left lower panel\n",
    "    ax = axs[1, 0]\n",
    "    ax.plot(np.arange(len(autocorrelation)), autocorrelation, marker=\"o\", lw=0.3)\n",
    "    ax.plot(\n",
    "        [tau_min_correlation],\n",
    "        [autocorrelation[tau_min_correlation]],\n",
    "        marker=\"v\",\n",
    "        markersize=12,\n",
    "    )\n",
    "    ax.plot(\n",
    "        [tau_max_correlation],\n",
    "        [autocorrelation[tau_max_correlation]],\n",
    "        marker=\"^\",\n",
    "        markersize=12,\n",
    "    )\n",
    "    ax.axhline(autocorrelation[tau_min_correlation], color=\"C1\", alpha=0.25)\n",
    "    ax.axhline(autocorrelation[tau_max_correlation], color=\"C2\", alpha=0.25)\n",
    "    ax.annotate(\n",
    "        \"Maximal negative correlation: {:.2f}\".format(\n",
    "            autocorrelation[tau_min_correlation]\n",
    "        ),\n",
    "        (tau_min_correlation, autocorrelation[tau_min_correlation]),\n",
    "        xytext=(tau_min_correlation, autocorrelation[tau_min_correlation] - 0.1),\n",
    "        verticalalignment=\"top\",\n",
    "    )\n",
    "    ax.annotate(\n",
    "        \"Maximal positive correlation: {:.2f}\".format(\n",
    "            autocorrelation[tau_max_correlation]\n",
    "        ),\n",
    "        (tau_max_correlation, autocorrelation[tau_max_correlation]),\n",
    "        xytext=(tau_max_correlation, autocorrelation[tau_max_correlation] + 0.1),\n",
    "        verticalalignment=\"bottom\",\n",
    "    )\n",
    "    # Axes settings\n",
    "    ax.set_xlim(0, len(autocorrelation) - 1)\n",
    "    ax.xaxis.set_major_locator(MaxNLocator(integer=True))\n",
    "    ax.set_ylim(-1.1, 1.1)\n",
    "    # Labels\n",
    "    ax.set_title(\"(b) Autocorrelation $\\hat{r}_{xx}[k]$\")\n",
    "    ax.set_xlabel(\"time-shift $k$ in samples\")\n",
    "\n",
    "    # Signal and shifted signal giving the maximal correlation in the right upper panel\n",
    "    ax = axs[0, 1]\n",
    "    ax.plot(\n",
    "        np.arange(len(signal)) - tau_max_correlation,\n",
    "        signal,\n",
    "        marker=\"o\",\n",
    "        lw=0.3,\n",
    "        color=\"C2\",\n",
    "        label=\"x[k+\" + str(tau_max_correlation) + \"]\",\n",
    "    )\n",
    "    ax.plot(np.arange(len(signal)), signal, marker=\"o\", lw=0.3, alpha=0.9, label=\"x[k]\")\n",
    "    ax.axvspan(0, len(signal) - 1 - tau_max_correlation, alpha=0.1, color=\"C0\")\n",
    "    # Axes settings\n",
    "    ax.set_xlim(-max(tau_min_correlation, tau_max_correlation), len(signal) - 1)\n",
    "    ax.xaxis.set_major_locator(MaxNLocator(integer=True))\n",
    "    ax.set_ylim(-y_max, y_max)\n",
    "    # Labels\n",
    "    ax.set_title(\n",
    "        \"(c) Maximal positive correlation: signal $x[k+\"\n",
    "        + str(tau_max_correlation)\n",
    "        + \"]$ vs. $x[k]$\"\n",
    "    )\n",
    "    ax.set_xlabel(\"time $k$ in samples\")\n",
    "    ax.legend()\n",
    "\n",
    "    # Signal and shifted signal giving the maximal negative correlation in the right lower panel\n",
    "    ax = axs[1, 1]\n",
    "    ax.plot(\n",
    "        np.arange(len(signal)) - tau_min_correlation,\n",
    "        signal,\n",
    "        marker=\"o\",\n",
    "        lw=0.3,\n",
    "        color=\"C1\",\n",
    "        label=\"$x[k+\" + str(tau_min_correlation) + \"]$\",\n",
    "    )\n",
    "    ax.plot(np.arange(len(signal)), signal, marker=\"o\", lw=0.3, alpha=0.9, label=\"x[k]\")\n",
    "    ax.axvspan(0, len(signal) - 1 - tau_min_correlation, alpha=0.1, color=\"C0\")\n",
    "    # Axes settings\n",
    "    ax.set_xlim(-max(tau_min_correlation, tau_max_correlation), len(signal) - 1)\n",
    "    ax.xaxis.set_major_locator(MaxNLocator(integer=True))\n",
    "    ax.set_ylim(-y_max, y_max)\n",
    "    # Labels\n",
    "    ax.set_title(\n",
    "        \"(d) Maximal negative correlation: signal $x[k+\"\n",
    "        + str(tau_min_correlation)\n",
    "        + \"]$ vs. $x[k]$\"\n",
    "    )\n",
    "    ax.set_xlabel(\"time $k$ in samples\")\n",
    "    ax.legend()\n",
    "\n",
    "    fig.tight_layout()"
   ]
  },
  {
   "cell_type": "markdown",
   "metadata": {},
   "source": [
    "## Examples"
   ]
  },
  {
   "cell_type": "markdown",
   "metadata": {},
   "source": [
    "### Autocorrelation of a sine wave"
   ]
  },
  {
   "cell_type": "code",
   "execution_count": null,
   "metadata": {},
   "outputs": [],
   "source": [
    "if __name__ == \"__main__\":\n",
    "    sine = np.sin(np.linspace(0, 8*np.pi, 30))\n",
    "    plot_autocorrelation(sine, \"Autocorrelation of a sine wave\")"
   ]
  },
  {
   "cell_type": "markdown",
   "metadata": {},
   "source": [
    "We see here the original signal $x[k]$ in blue in the upper left panel (a). In the lower left panel (b) we see all correlation values depending on the number of samples the signal is shifted. We can see that the correlation goes towards zero the more the signal is shifted (and hence the less overlap we have). We can also see clear maxima indicating the sine wave nature.\n",
    "\n",
    "The two panels on the right analyse the maximum (c) and minimum (d) of the autocorrelation which are marked in the same color in the autocorrelation panel (b).\n",
    "\n",
    "We can observe that in (c) the signals overlap very well whereas in (d) they are mirrored. In both panels the shaded region shows where both signals overlap, i.e., where non-zero values for the correlation are obtained."
   ]
  },
  {
   "cell_type": "markdown",
   "metadata": {},
   "source": [
    "### Autocorrelation of white noise"
   ]
  },
  {
   "cell_type": "code",
   "execution_count": null,
   "metadata": {},
   "outputs": [],
   "source": [
    "if __name__ == \"__main__\":\n",
    "    np.random.seed(100)\n",
    "    noise = np.random.uniform(-1, 1, size=30)\n",
    "    plot_autocorrelation(noise, \"Autocorrelation of white noise\")"
   ]
  },
  {
   "cell_type": "markdown",
   "metadata": {},
   "source": [
    "For the noise signal we can observe that, apart for no time-shift, the correlation values are all small and do not indicate any kind of repetition in the signal."
   ]
  },
  {
   "cell_type": "markdown",
   "metadata": {},
   "source": [
    "### Autocorrelation of 50% white noise with 50% sine wave"
   ]
  },
  {
   "cell_type": "code",
   "execution_count": null,
   "metadata": {},
   "outputs": [],
   "source": [
    "if __name__ == \"__main__\":\n",
    "    # Mix 50% of a sine wave with 50% noise\n",
    "    plot_autocorrelation(sine + noise, \"Autocorrelation of a signal mixed with white noise\")"
   ]
  },
  {
   "cell_type": "markdown",
   "metadata": {},
   "source": [
    "When mixing a sine wave with one third noise we can observe that the autocorrelation still works very well and produces results similar to the ones for the situation without any noise."
   ]
  },
  {
   "cell_type": "markdown",
   "metadata": {},
   "source": [
    "## Copyright\n",
    "This notebook is licensed to be used during the lecture COM[3502](http://www.dcs.shef.ac.uk/intranet/teaching/public/modules/level3/com3502.html \"Open web page for COM3502 module\")-[4502](http://www.dcs.shef.ac.uk/intranet/teaching/public/modules/level4/com4502.html \"Open web page for COM4502 module\")-[6502](http://www.dcs.shef.ac.uk/intranet/teaching/public/modules/msc/com6502.html \"Open web page for COM4502 module\") Speech Processing at the [University of Sheffield](https://www.sheffield.ac.uk/ \"Open web page of The University of Sheffield\"), Dept. of [Computer Science](https://www.sheffield.ac.uk/dcs \"Open web page of Department of Computer Science, University of Sheffield\"). Any further use (beyond use for the lecture) is only permitted if agreed with the [module lead](mailto:s.goetze@sheffield.ac.uk). \n",
    "### Contributors\n",
    "[Stefan Goetze](http://www.stefan-goetze.de \"Web page of Stefan Goetze\"),\n",
    "[Lena Strobl](https://github.com/sleyna/)"
   ]
  }
 ],
 "metadata": {
  "kernelspec": {
   "display_name": "Python 3 (ipykernel)",
   "language": "python",
   "name": "python3"
  },
  "language_info": {
   "codemirror_mode": {
    "name": "ipython",
    "version": 3
   },
   "file_extension": ".py",
   "mimetype": "text/x-python",
   "name": "python",
   "nbconvert_exporter": "python",
   "pygments_lexer": "ipython3",
   "version": "3.8.3"
  },
  "toc": {
   "base_numbering": 1,
   "nav_menu": {},
   "number_sections": true,
   "sideBar": true,
   "skip_h1_title": false,
   "title_cell": "Table of Contents",
   "title_sidebar": "Contents",
   "toc_cell": false,
   "toc_position": {
    "height": "calc(100% - 180px)",
    "left": "10px",
    "top": "150px",
    "width": "165px"
   },
   "toc_section_display": true,
   "toc_window_display": false
  }
 },
 "nbformat": 4,
 "nbformat_minor": 4
}
