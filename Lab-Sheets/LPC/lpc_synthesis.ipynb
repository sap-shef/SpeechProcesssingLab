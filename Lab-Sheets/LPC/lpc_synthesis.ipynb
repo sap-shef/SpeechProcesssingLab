{
 "cells": [
  {
   "cell_type": "markdown",
   "metadata": {},
   "source": [
    "# Part of Lab-Sheet 9 (COM3502-4502-6502 Speech Processing)\n",
    "\n",
    "##  LPC Synthesis"
   ]
  },
  {
   "cell_type": "markdown",
   "metadata": {},
   "source": [
    "This lab sheet is part of the lecture COM[3502](http://www.dcs.shef.ac.uk/intranet/teaching/public/modules/level3/com3502.html \"Open web page for COM3502 module\")-[4502](http://www.dcs.shef.ac.uk/intranet/teaching/public/modules/level4/com4502.html \"Open web page for COM4502 module\")-[6502](http://www.dcs.shef.ac.uk/intranet/teaching/public/modules/msc/com6502.html \"Open web page for COM4502 module\") Speech Processing at the [University of Sheffield](https://www.sheffield.ac.uk/ \"Open web page of The University of Sheffield\"), Dept. of [Computer Science](https://www.sheffield.ac.uk/dcs \"Open web page of Department of Computer Science, University of Sheffield\")."
   ]
  },
  {
   "cell_type": "markdown",
   "metadata": {},
   "source": [
    "It is probably easiest to open this Jupyter Notebook with [Google Colab](https://colab.research.google.com/notebooks/intro.ipynb#recent=true \"Open in Google Colab\") since GitHub's Viewer does not always show all details correctly. <a href=\"https://colab.research.google.com/github/sap-shef/SpeechProcesssingLab/blob/main/Lab-Sheets/LPC/lpc_synthesis.ipynb\"><img align=\"right\" src=\"https://colab.research.google.com/assets/colab-badge.svg\" alt=\"Open Notebook in Google Colab\" title=\"Open and Execute the Notebook directly in Google Colaboratory\"></a>\n",
    "\n",
    "Please put questions, comments and correction suggestions in the [Blackboard](https://vle.shef.ac.uk) discussion board or send an email to [s.goetze@sheffield.ac.uk](mailto:s.goetze@sheffield.ac.uk)."
   ]
  },
  {
   "cell_type": "markdown",
   "metadata": {},
   "source": [
    "## Navigation\n",
    "\n",
    "![LPC Synthesis is needed for LPC](images/flow_lpc_synthesis.svg)\n",
    "\n",
    "This Lab Sheet contains several Notebooks (the blue-ish colour in the picture above indicates **this** Notebook to help with navigation):\n",
    "\n",
    "* The Notebooks [`correlation.ipynb`](./correlation.ipynb),  [`autocorrelation.ipynb`](./LPC/autocorrelation.ipynb) and [`fundamental_frequency.ipynb`](./fundamental_frequency.ipynb)  repeat knowlege already known from lab sheet [Lab-Sheet 3](Lab-Sheet-3.ipynb) and [Lab-Sheet 7](Lab-Sheet-7.ipynb), respectively.\n",
    "* The Notebook [`lpc_analysis.ipynb`](./lpc_analysis.ipynb) provides some information how to analyse speech signals based on Linear Predictive Coding, i.e. how to calculate the Linear Prediction coefficients $a_i$.\n",
    "* The Notebook [`lpc_synthesis.ipynb`](./lpc_synthesis.ipynb) provides some details on the speech re-synthesis.\n",
    "* The Notebook [`lpc.ipynb`](./lpc.ipynb) contains the high level functionality."
   ]
  },
  {
   "cell_type": "markdown",
   "metadata": {},
   "source": [
    "## Intended Learning Outcomes (ILOs) of this Notebook"
   ]
  },
  {
   "cell_type": "markdown",
   "metadata": {},
   "source": [
    "After completing this notebook, students should be able to\n",
    "\n",
    "- *implement* the root mean square and *recognize* its use for a signal's energy,\n",
    "- *implement* a function to generate a synthetic excitation signal, and\n",
    "- *implement* LPC synthesis which uses the previous functions."
   ]
  },
  {
   "cell_type": "code",
   "execution_count": null,
   "metadata": {},
   "outputs": [],
   "source": [
    "import numpy as np\n",
    "\n",
    "# We will use the linear filter function from scipy\n",
    "from scipy.signal import lfilter"
   ]
  },
  {
   "cell_type": "markdown",
   "metadata": {},
   "source": [
    "## Root Mean Square\n",
    "\n",
    "For the LPC synthesis we will need to create impulse and/or noise signals. See the following picture (which you should have already seen in the [main LPC notebook](./lpc.ipynb)) for the source-filter model.\n",
    "\n",
    "![The source-filter model for speech synthesis](images/source_filter_model.svg)\n",
    "\n",
    "To ensure that the created signals have the same energies we will need to compute the *root mean square (RMS)* of a signal, which is used as an estimate for the signal's energy. The RMS is computed (as the name suggests) by taking the square root of the mean value over all squared samples:\n",
    "\\begin{equation}\n",
    "\\mathrm{RMS}(s) = \\sqrt{\\frac{1}{L}\\sum_{k=1}^L \\left(s[k]\\right)^2} \\tag{1}\n",
    "\\label{eq:RMS_Definition}\n",
    "\\end{equation}\n",
    "\n",
    "**Task: (already completed)** Implement the function `rms(signal)` according to (\\ref{eq:RMS_Definition})."
   ]
  },
  {
   "cell_type": "code",
   "execution_count": null,
   "metadata": {},
   "outputs": [],
   "source": [
    "def rms(signal):\n",
    "    \"\"\"Return the root mean square of data.\"\"\"\n",
    "    return np.sqrt(np.mean(np.square(signal)))"
   ]
  },
  {
   "cell_type": "markdown",
   "metadata": {},
   "source": [
    "## Excitation Signal\n",
    "\n",
    "For the synthesis we first need to create an excitation signal (the source part of the source-filter model).\n",
    "This excitation signal consists of an impulse excitation signal mixed with a noise excitation signal (or only one of those two).\n",
    "\n",
    "The impulse excitation signal just repeats a `1` for one sample after the given amount of samples, all other samples are `0`. The noise excitation is just white noise. The two signals are then mixed according to the given percentage. Note, that before mixing the two signals we ensure that both signals have the same energy by amplifying/reducing one of the signals according to their `rms` values.\n",
    "\n",
    "Our parameters to the function are:\n",
    "\n",
    "- `excitation_period`: The number of samples after which the impulse excitation signal should be repeated.\n",
    "- `length`: How many samples should the generated signal have.\n",
    "- `offset`: Which sample should be the first to be set to 1 in the impulse signal. This is needed in the later, frame-based implementation to allow an offset in relation where the last pulse was in the previous frame.\n",
    "- `noise_excitation_percentage`: The percentage of the noise signal in the result (0 = pure impulse signal, 1 = pure noise signal)."
   ]
  },
  {
   "cell_type": "code",
   "execution_count": null,
   "metadata": {},
   "outputs": [],
   "source": [
    "def excitation_signal(\n",
    "    excitation_period, length, offset=0, noise_excitation_percentage=0\n",
    "):\n",
    "    \"\"\"Create excitation signal.\n",
    "\n",
    "    - excitation_period: period of the impulse excitation in samples\n",
    "    - length: length of the signal\n",
    "    - offset: offset for the start of the excitation period\n",
    "    - noise_excitation_percentage: percentage of the noise signal (0 = only impulse, 1= only noise)\"\"\"\n",
    "\n",
    "    # Create a signal which is zero except for every excitation_period-th sample\n",
    "    impulse = np.zeros(length)\n",
    "    impulse[offset::excitation_period] = 1\n",
    "\n",
    "    # Create a noise signal from random data (white noise)\n",
    "    noise = np.random.normal(size=length)\n",
    "\n",
    "    # Amplify / Reduce noise signal s.t. the energies of the impulse and noise signal are equal\n",
    "    noise *= rms(impulse) / rms(noise)\n",
    "\n",
    "    # Return a mixture of the impulse and noise signals according to the noise_excitation_percentage\n",
    "    return (\n",
    "        1 - noise_excitation_percentage\n",
    "    ) * impulse + noise_excitation_percentage * noise"
   ]
  },
  {
   "cell_type": "markdown",
   "metadata": {},
   "source": [
    "To illustrate the generated excitation signals we will plot an impulse-only signal, a noise-only signal and two mixed signals with different percentages."
   ]
  },
  {
   "cell_type": "code",
   "execution_count": null,
   "metadata": {},
   "outputs": [],
   "source": [
    "if __name__ == \"__main__\":  # skip executing this funct. if the notebook is called from another notebook\n",
    "    import matplotlib.pyplot as plt\n",
    "\n",
    "    excitation_period = 20\n",
    "    length = 200\n",
    "    offset = 10\n",
    "\n",
    "    fig, axs = plt.subplots(nrows=2, ncols=2, figsize=(16, 8)) # create figure with 2x2=4 axes\n",
    "    fig.suptitle(\"Different excitation signals\")\n",
    "\n",
    "    impulse_only = excitation_signal(excitation_period, length, offset, 0)\n",
    "    axs[0, 0].plot(impulse_only)\n",
    "    axs[0, 0].set_title(\"100% Impulse\")\n",
    "    axs[0, 0].set_xlim(0, length)\n",
    "    axs[0, 0].set_ylim(-1, 1)\n",
    "\n",
    "    noise_only = excitation_signal(excitation_period, length, offset, 1)\n",
    "    axs[0, 1].plot(noise_only)\n",
    "    axs[0, 1].set_title(\"100% Noise\")\n",
    "    axs[0, 1].set_xlim(0, length)\n",
    "    axs[0, 1].set_ylim(-1, 1)\n",
    "\n",
    "    more_impulse = excitation_signal(excitation_period, length, offset, 0.25)\n",
    "    axs[1, 0].plot(more_impulse)\n",
    "    axs[1, 0].set_title(\"75% Impulse, 25% Noise\")\n",
    "    axs[1, 0].set_xlim(0, length)\n",
    "    axs[1, 0].set_ylim(-1, 1)\n",
    "\n",
    "    equal = excitation_signal(excitation_period, length, offset, 0.5)\n",
    "    axs[1, 1].plot(equal)\n",
    "    axs[1, 1].set_title(\"50% Impulse, 50% Noise\")\n",
    "    axs[1, 1].set_xlim(0, length)\n",
    "    axs[1, 1].set_ylim(-1, 1)"
   ]
  },
  {
   "cell_type": "markdown",
   "metadata": {},
   "source": [
    "## LPC Synthesis\n",
    "\n",
    "For the LPC synthesis there are essentially two steps we need to perform:\n",
    "1. Create an excitation signal $e[k]$ which is defined by the percentage of impulse and noise part and by the frequency and offset of the impulse part.\n",
    "    1. To ensure that the resulting signal has the correct energy we normalize the energy/RMS of the excitation signal $e[k]$ with the passed `original_excitation_energy`.\n",
    "2. Filter $e[k]$ with an all-pole filter defined by the $z$-domain transfer function $H_2[z] = \\frac{S[z]}{E[z]} = \\frac{1}{1-\\sum_{p=1}^P a_pz^{-p}}$ with the given coefficients $a_p$ to obtain the resulting signal $s[k]$.\n",
    "\n",
    "Hence, the parameters passed to our `lpc_synthesis` function are:\n",
    "- `length`, how many samples should the synthesized signal have,\n",
    "- `a`, the Linear Prediction coefficients,\n",
    "- `original_excitation_energy`, the energy of the prediction error sequence,\n",
    "- `excitation_period`, the period of the impulse part of the excitation signal,\n",
    "- `offset`, the impulse offset inside the signal, and\n",
    "- `noise_excitation_percentage`, how much of the excitation signal should be noise vs. impulse signal."
   ]
  },
  {
   "cell_type": "code",
   "execution_count": null,
   "metadata": {},
   "outputs": [],
   "source": [
    "def lpc_synthesis(\n",
    "    length,\n",
    "    a,\n",
    "    original_excitation_energy,\n",
    "    excitation_period,\n",
    "    offset=0,\n",
    "    noise_excitation_percentage=0,\n",
    "):\n",
    "    # Generate excitation signal\n",
    "    excitation = excitation_signal(\n",
    "        excitation_period, length, offset, noise_excitation_percentage\n",
    "    )\n",
    "    # Normalize excitation signal energy with the original_excitation_energy\n",
    "    excitation *= original_excitation_energy / rms(excitation)\n",
    "    # Filter the excitation with all pole filter 1/A\n",
    "    # Attention: all pole filters are realized by passing the numpy array [1] as first and\n",
    "    #            the coefficients as second parameter to lfilter. You need to ensure that both\n",
    "    #            arrays have the same data type (a.dtype).\n",
    "    signal = lfilter(np.ones(1, dtype=a.dtype), a, excitation)\n",
    "\n",
    "    return signal, excitation"
   ]
  },
  {
   "cell_type": "markdown",
   "metadata": {},
   "source": [
    "## Copyright\n",
    "This notebook is licensed to be used during the lecture COM[3502](http://www.dcs.shef.ac.uk/intranet/teaching/public/modules/level3/com3502.html \"Open web page for COM3502 module\")-[4502](http://www.dcs.shef.ac.uk/intranet/teaching/public/modules/level4/com4502.html \"Open web page for COM4502 module\")-[6502](http://www.dcs.shef.ac.uk/intranet/teaching/public/modules/msc/com6502.html \"Open web page for COM4502 module\") Speech Processing at the [University of Sheffield](https://www.sheffield.ac.uk/ \"Open web page of The University of Sheffield\"), Dept. of [Computer Science](https://www.sheffield.ac.uk/dcs \"Open web page of Department of Computer Science, University of Sheffield\"). Any further use (beyond use for the lecture) is only permitted if agreed with the [module lead](mailto:s.goetze@sheffield.ac.uk). \n",
    "### Contributors\n",
    "[Stefan Goetze](http://www.stefan-goetze.de \"Web page of Stefan Goetze\"),\n",
    "[Lena Strobl](https://github.com/sleyna/)"
   ]
  }
 ],
 "metadata": {
  "kernelspec": {
   "display_name": "Python 3 (ipykernel)",
   "language": "python",
   "name": "python3"
  },
  "language_info": {
   "codemirror_mode": {
    "name": "ipython",
    "version": 3
   },
   "file_extension": ".py",
   "mimetype": "text/x-python",
   "name": "python",
   "nbconvert_exporter": "python",
   "pygments_lexer": "ipython3",
   "version": "3.8.3"
  },
  "toc": {
   "base_numbering": 1,
   "nav_menu": {},
   "number_sections": true,
   "sideBar": true,
   "skip_h1_title": false,
   "title_cell": "Table of Contents",
   "title_sidebar": "Contents",
   "toc_cell": false,
   "toc_position": {},
   "toc_section_display": true,
   "toc_window_display": false
  }
 },
 "nbformat": 4,
 "nbformat_minor": 4
}
