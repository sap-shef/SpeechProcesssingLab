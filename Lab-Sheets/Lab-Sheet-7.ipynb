{
 "cells": [
  {
   "cell_type": "markdown",
   "id": "dd4f14ba",
   "metadata": {},
   "source": [
    "# Lab Sheet 7 (COM3502-4502-6502 Speech Processing)"
   ]
  },
  {
   "cell_type": "markdown",
   "id": "5c2ac4cd",
   "metadata": {},
   "source": [
    "This lab sheet is part of the lecture COM[3502](http://www.dcs.shef.ac.uk/intranet/teaching/public/modules/level3/com3502.html \"Open web page for COM3502 module\")-[4502](http://www.dcs.shef.ac.uk/intranet/teaching/public/modules/level4/com4502.html \"Open web page for COM4502 module\")-[6502](http://www.dcs.shef.ac.uk/intranet/teaching/public/modules/msc/com6502.html \"Open web page for COM4502 module\") Speech Processing at the [University of Sheffield](https://www.sheffield.ac.uk/ \"Open web page of The University of Sheffield\"), Dept. of [Computer Science](https://www.sheffield.ac.uk/dcs \"Open web page of Department of Computer Science, University of Sheffield\")."
   ]
  },
  {
   "cell_type": "markdown",
   "id": "1ddd7263",
   "metadata": {},
   "source": [
    "It is probably easiest to open this Jupyter Notebook with [Google Colab](https://colab.research.google.com/notebooks/intro.ipynb#recent=true \"Open in Google Colab\") since GitHub's Viewer does not always show all details correctly. <a href=\"https://colab.research.google.com/github/sap-shef/SpeechProcesssingLab/blob/main/Lab-Sheets/Lab-Sheet-7.ipynb\"><img align=\"right\" src=\"https://colab.research.google.com/assets/colab-badge.svg\" alt=\"Open Notebook in Google Colab\" title=\"Open and Execute the Notebook directly in Google Colaboratory\"></a>\n",
    "\n",
    "Please put questions, comments and correction suggestions in the [Blackboard](https://vle.shef.ac.uk) discussion board or send an email to [s.goetze@sheffield.ac.uk](mailto:s.goetze@sheffield.ac.uk)."
   ]
  },
  {
   "cell_type": "code",
   "execution_count": 9,
   "id": "d33f3d61",
   "metadata": {},
   "outputs": [],
   "source": [
    "# Let's do the ususal necessary and nice-to-have imports\n",
    "%matplotlib inline\n",
    "import matplotlib.pyplot as plt  # plotting\n",
    "import seaborn as sns; sns.set() # styling ((un-)comment if you want)\n",
    "import numpy as np               # math\n",
    "\n",
    "# imports we need in addition for this lab sheet\n",
    "from IPython import display as ipd"
   ]
  },
  {
   "cell_type": "markdown",
   "id": "8c0f7953",
   "metadata": {},
   "source": [
    "## A random Signal\n",
    "\n",
    "We will deal with random signals in the following. A random signal with a [normal distribution](https://en.wikipedia.org/wiki/Normal_distribution), a.k.a. Gaussian distribution, can be generated using `numpy`s function `np.random.normal()`. \n",
    "\n",
    "<br>\n",
    "<a id='task_1'></a>\n",
    "<div style=\"border: 2px solid #999; padding: 10px; background: #eee;\">\n",
    "    \n",
    "**Task 1: Create a random signal**\n",
    "    \n",
    "<ul>\n",
    "<li> \n",
    "    Use the function <code>np.random.normal()</code> to create a random signal of $1$ second length.\n",
    "</li>     \n",
    "<li> \n",
    "    Visualise and listen to the signal.\n",
    "</li>  \n",
    "<li> \n",
    "    Show the normal distribution by plotting the histogram of the function. The <code>hist()</code> function of <code>matplotlib</code> might be helpful for this.\n",
    "</li> \n",
    "</ul>\n",
    "</div>"
   ]
  },
  {
   "cell_type": "code",
   "execution_count": 23,
   "id": "b5b460fa",
   "metadata": {},
   "outputs": [],
   "source": [
    "# your code here:\n",
    "\n",
    "# create a normally distributed random signal of legth 1 second\n",
    "# ...\n",
    "\n",
    "# visualise the signal\n",
    "# ...\n",
    "\n",
    "# visualise the histogram\n",
    "# ...\n",
    "\n",
    "# listen to the sound file\n",
    "# ..."
   ]
  },
  {
   "cell_type": "markdown",
   "id": "a29d3937",
   "metadata": {},
   "source": [
    "## A periodically repeated Random Signal\n",
    "\n",
    "To add some *structure* to the signal we will generate a periodic random signal in the following by concatenating the same random signal several times.\n",
    "\n",
    "<br>\n",
    "<a id='task_2'></a>\n",
    "<div style=\"border: 2px solid #999; padding: 10px; background: #eee;\">\n",
    "    \n",
    "**Task 2: Create a peridic random signal**\n",
    "    \n",
    "<ul>\n",
    "<li> \n",
    "    Use the function <code>np.random.normal()</code> to create a random signal of $P=100$ samples length.\n",
    "</li>     \n",
    "<li> \n",
    "    Create a signal of length $L=8000$ containing $L/P$ repetitions of the the previously generated signal. You can use the function <code>np.tile()</code> to create this longer signal.\n",
    "</li>\n",
    "<li> \n",
    "    You may want to listen to this signal to <strong>perceive</strong> the periodic structure.\n",
    "</li>\n",
    "</ul>\n",
    "</div>"
   ]
  },
  {
   "cell_type": "code",
   "execution_count": 26,
   "id": "04d2e82b",
   "metadata": {},
   "outputs": [],
   "source": [
    "np.random.seed(1) # this ensures that always the same \"random\" signal is generated\n",
    "\n",
    "# your code here\n",
    "# ...."
   ]
  },
  {
   "cell_type": "markdown",
   "id": "b5dec43d",
   "metadata": {},
   "source": [
    "## Autocorrelation Sequence, a.k.a. Autocorrelation Function\n",
    "\n",
    "In the [previous notebook (Lab-Sheet 3)](./Lab-Sheet-3-Solution.ipynb) we calculated the [Correlation](https://en.wikipedia.org/wiki/Correlation_and_dependence) and the correlation coefficient $\\hat{r}_{xx}$ as a scalar quantity indicating how correated two signals (of the same length) are.\n",
    "\n",
    "Today, we are not only interested in the scalar correlation between two signals $x[k]$ and $y[k]$ but also in the (auto-)correlation between $x[k]$ and $x[k-\\kappa]$, the time-shifted version of $x[k]$. This information can be analysed by the [auto-correlation function](https://en.wikipedia.org/wiki/Autocorrelation) (ACF) which characterizes the temporal dependencies within one random signal $x[k]$. \n",
    "\n",
    "We define the *autocorrelation function estimate* at a time shift $\\kappa$ of the signal $x[k]$ of length $L$ as\n",
    "\n",
    "\\begin{equation}\n",
    "\\hat{r}_{xx}[\\kappa] = \\frac{1}{L} \\sum_{k=1}^{L}x[k]x[k+\\kappa]  \\tag{1}\n",
    "\\label{eq:AutocorrelationEstFullSum}\n",
    "\\end{equation}\n",
    "\n",
    "for all values of $\\kappa$ from $0$ to $L-1$, i.e., for each $\\kappa$ we correlate the non-shifted signal with a signal shifted by $\\kappa$ samples.\n",
    "\n",
    "We observe that the sum in (\\ref{eq:AutocorrelationEstFullSum}) is not well defined as  $x[k+\\kappa]$ is unknown for $k+\\kappa>L$. We have to assume that the signals are zero-padded by as many zeros before and after the actual signal as needed to calculate the sum. We call this *zero-padding*. We will be using the Python's `np.correlate()` function to calculate the correlation. The option `mode='full'` ensures proper automatic zero-padding.\n",
    "\n",
    "\n",
    "<br>\n",
    "<a id='task_3'></a>\n",
    "<div style=\"border: 2px solid #999; padding: 10px; background: #eee;\">\n",
    "    \n",
    "**Task 3: Calculate the autocorrelation function for the periodically repeated random signal**\n",
    "    \n",
    "<ul>\n",
    "<li> \n",
    "    Calculate the ACF using the <code>np.correlate()</code> function and the parameter <code>mode='full'</code>. Note, that the normalisation by $1/L$ has to be added manually. \n",
    "</li>\n",
    "<li> \n",
    "    The resulting ACF vector is of length $2L-1$ ranging from $-(L-1)$ to $(L-1)$. The interesting are is in the middle of the vector, i.e. around $\\kappa =0$. Thus, plot the ACF for the samples $-(K-1) \\leq \\kappa \\leq (K-1)$ with $K=250$.\n",
    "</li>  \n",
    "</ul>\n",
    "</div>\n"
   ]
  },
  {
   "cell_type": "code",
   "execution_count": null,
   "id": "b5fd28bf",
   "metadata": {},
   "outputs": [],
   "source": [
    "# your code here\n",
    "# ...."
   ]
  },
  {
   "cell_type": "markdown",
   "id": "c2952812",
   "metadata": {},
   "source": [
    "## Autocorrelation of a speech segment\n",
    "\n",
    "<br>\n",
    "<a id='task_4'></a>\n",
    "<div style=\"border: 2px solid #999; padding: 10px; background: #eee;\">\n",
    "    \n",
    "**Task 4: Calculate the autocorrelation function for a speech signal**\n",
    "    \n",
    "<ul>\n",
    "<li> \n",
    "    Download the file <code>https://staffwww.dcs.shef.ac.uk/people/S.Goetze/sound/voiced_unvoiced_e.wav</code> and load it to a variable  <code>s</code>. \n",
    "</li>\n",
    "<li> \n",
    "    Plot the ACF for the samples $-(K-1) \\leq \\kappa \\leq (K-1)$ with $K=500$.\n",
    "</li>  \n",
    "</ul>\n",
    "</div>\n",
    "\n"
   ]
  },
  {
   "cell_type": "code",
   "execution_count": null,
   "id": "b26241bd",
   "metadata": {},
   "outputs": [],
   "source": [
    "# your code here\n",
    "# ...."
   ]
  },
  {
   "cell_type": "markdown",
   "id": "e99c41d4",
   "metadata": {},
   "source": [
    "## Fundamental Frequency Estimation"
   ]
  },
  {
   "cell_type": "code",
   "execution_count": null,
   "id": "34284845",
   "metadata": {},
   "outputs": [],
   "source": []
  },
  {
   "cell_type": "code",
   "execution_count": null,
   "id": "7393f9d3",
   "metadata": {},
   "outputs": [],
   "source": []
  },
  {
   "cell_type": "markdown",
   "id": "067402cc",
   "metadata": {},
   "source": [
    "## Copyright\n",
    "\n",
    "This notebook is licensed to be used during the lecture COM[3502](http://www.dcs.shef.ac.uk/intranet/teaching/public/modules/level3/com3502.html \"Open web page for COM3502 module\")-[4502](http://www.dcs.shef.ac.uk/intranet/teaching/public/modules/level4/com4502.html \"Open web page for COM4502 module\")-[6502](http://www.dcs.shef.ac.uk/intranet/teaching/public/modules/msc/com6502.html \"Open web page for COM4502 module\") Speech Processing at the [University of Sheffield](https://www.sheffield.ac.uk/ \"Open web page of The University of Sheffield\"), Dept. of [Computer Science](https://www.sheffield.ac.uk/dcs \"Open web page of Department of Computer Science, University of Sheffield\"). Any further use (beyond use for the lecture) is only permitted if agreed with the [module lead](mailto:s.goetze@sheffield.ac.uk). "
   ]
  }
 ],
 "metadata": {
  "kernelspec": {
   "display_name": "Python 3 (ipykernel)",
   "language": "python",
   "name": "python3"
  },
  "language_info": {
   "codemirror_mode": {
    "name": "ipython",
    "version": 3
   },
   "file_extension": ".py",
   "mimetype": "text/x-python",
   "name": "python",
   "nbconvert_exporter": "python",
   "pygments_lexer": "ipython3",
   "version": "3.8.3"
  }
 },
 "nbformat": 4,
 "nbformat_minor": 5
}
