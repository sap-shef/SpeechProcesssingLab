{
 "cells": [
  {
   "cell_type": "markdown",
   "id": "975e37df",
   "metadata": {},
   "source": [
    "# Lab Sheet 6 (COM3502-4502-6502 Speech Processing)"
   ]
  },
  {
   "cell_type": "markdown",
   "id": "79e875b9",
   "metadata": {},
   "source": [
    "This lab sheet is part of the lecture COM[3502](http://www.dcs.shef.ac.uk/intranet/teaching/public/modules/level3/com3502.html \"Open web page for COM3502 module\")-[4502](http://www.dcs.shef.ac.uk/intranet/teaching/public/modules/level4/com4502.html \"Open web page for COM4502 module\")-[6502](http://www.dcs.shef.ac.uk/intranet/teaching/public/modules/msc/com6502.html \"Open web page for COM4502 module\") Speech Processing at the [University of Sheffield](https://www.sheffield.ac.uk/ \"Open web page of The University of Sheffield\"), Dept. of [Computer Science](https://www.sheffield.ac.uk/dcs \"Open web page of Department of Computer Science, University of Sheffield\")."
   ]
  },
  {
   "cell_type": "markdown",
   "id": "fd07c4c1",
   "metadata": {},
   "source": [
    "It is probably easiest to open this Jupyter Notebook with [Google Colab](https://colab.research.google.com/notebooks/intro.ipynb#recent=true \"Open in Google Colab\") since GitHub's Viewer does not always show all details correctly. <a href=\"https://colab.research.google.com/github/sap-shef/SpeechProcesssingLab/blob/main/Lab-Sheets/Lab-Sheet-6.ipynb\"><img align=\"right\" src=\"https://colab.research.google.com/assets/colab-badge.svg\" alt=\"Open Notebook in Google Colab\" title=\"Open and Execute the Notebook directly in Google Colaboratory\"></a>\n",
    "\n",
    "Please put questions, comments and correction suggestions in the [Blackboard](https://vle.shef.ac.uk) discussion board or send an email to [s.goetze@sheffield.ac.uk](mailto:s.goetze@sheffield.ac.uk)."
   ]
  },
  {
   "cell_type": "markdown",
   "id": "d6cb9fbc",
   "metadata": {},
   "source": [
    "<div class=\"alert alert-block alert-success\" id='ILOs'>\n",
    "<strong>Intended Learning Objectives (ILOs):</strong><br>\n",
    "    \n",
    "After completing this Jupyter Notenook you should\n",
    "    \n",
    "<ul>\n",
    "<li>be able to visualise linear and lgarithmic chirp/sweep signals in time, frequency and time-frequency domain\n",
    "</li>    \n",
    "<li>understand basic use of the <code>Python</code> libraries \n",
    "    <ul>\n",
    "        <li><a href=\"https://matplotlib.org/\"><code>Matplotlib</code></a> for graphical output (like \n",
    "        <a href=\"https://matplotlib.org/stable/api/_as_gen/matplotlib.pyplot.plot.html\"><code>plot()</code></a>), \n",
    "        <a href=\"https://matplotlib.org/stable/api/_as_gen/matplotlib.pyplot.xlabel.html\"><code>xlabel()</code></a>, \n",
    "        <a href=\"https://matplotlib.org/stable/api/_as_gen/matplotlib.pyplot.ylabel.html\"><code>ylabel()</code></a>, \n",
    "        <a href=\"https://matplotlib.org/stable/api/_as_gen/matplotlib.pyplot.xlim.html\"><code>xlim()</code></a>,\n",
    "        <a href=\"https://matplotlib.org/stable/api/_as_gen/matplotlib.pyplot.ylim.html\"><code>ylim()</code></a>,\n",
    "        <a href=\"https://matplotlib.org/stable/api/_as_gen/matplotlib.pyplot.subplot.html\"><code>subplot()</code></a>,\n",
    "        etc.)\n",
    "    </li>\n",
    "    <li><a href=\"https://numpy.org/doc/stable/index.html\"><code>Numpy</code></a> for basic mathematical functions like \n",
    "        <a href=\"https://numpy.org/doc/stable/reference/generated/numpy.ones.html\"><code>ones()</code></a>,\n",
    "    </li>\n",
    "    <li><a href=\"https://docs.scipy.org/doc/scipy/index.html\"><code>scipy.signal</code></a> commands \n",
    "        <a href=\"https://docs.scipy.org/doc/scipy/reference/generated/scipy.signal.chirp.html\"><code>chirp()</code></a>,  \n",
    "        etc.\n",
    "    </li>\n",
    "    </ul>\n",
    "</li>\n",
    "</ul>\n",
    "</div>"
   ]
  },
  {
   "cell_type": "code",
   "execution_count": null,
   "id": "a9d21325",
   "metadata": {},
   "outputs": [],
   "source": [
    "# Let's do the ususal necessary and nice-to-have imports\n",
    "%matplotlib inline\n",
    "import matplotlib.pyplot as plt  # plotting\n",
    "import seaborn as sns; sns.set() # styling ((un-)comment if you want)\n",
    "import numpy as np               # math\n",
    "\n",
    "# imports we need in addition for this lab sheet\n",
    "from IPython import display as ipd\n",
    "import scipy.signal as sig"
   ]
  },
  {
   "cell_type": "markdown",
   "id": "73daa2b0",
   "metadata": {},
   "source": [
    "## The Chirp Signal, a.k.a. Sweep Signal\n",
    "\n",
    "The function \n",
    "\\begin{equation}\n",
    "x_{\\mathrm{chirp}}(t)=\\mathrm{sin}\\left(\\pi t^2\\right) \\tag{1}\n",
    "\\end{equation}\n",
    "defines the so-called **linear-frequency [chirp](https://en.wikipedia.org/wiki/Chirp \"Click here for additional information on the Chirp signal on Wikipedia\")** or simply linear chirp. It is a signal that sweeps through diffrent frequencies over time.\n",
    "\n",
    "\n",
    "<br>\n",
    "<a id='task_1'></a>\n",
    "<div class=\"alert alert-block alert-info\">\n",
    "    \n",
    "**Task 1: Create and analyse a Chirp Signal and visualise in time and frequency-domain**\n",
    "    \n",
    "<ul>\n",
    "<li> Implement a function <code>generate_chirp</code> that outputs a sampled chirp signal <code>x</code> for the time interval $[t_0,t_1]$ in seconds with $0\\leq t_0<t_1$.\n",
    "</li>     \n",
    "<li>\n",
    "    Compute the the chirp signal <code>x</code> for various input parameters $t_0$ and $t_1$. Hint: also try compatatively high <code>t</code>'s, e.g. <code>t1=50</code>, <code>t2=200</code>.\n",
    "</li>\n",
    "<li> \n",
    "    Visulaise and listen to the generated signal(s). Please be aware that for low <code>t</code> you also create a signal with low frequency $f$. Your headphones / loudspeakers might not be capable to reprocude signals with such low frequencies. It should, however, work for higher $t$ and $f$.\n",
    "</li> \n",
    "<li>\n",
    "   Calculate and visualise the magnitude Fourier transform ($|\\mathrm{DFT}(x)|$).\n",
    "</li>\n",
    "</ul>\n",
    "</div>\n",
    "\n",
    "**Hint**: Repetition from end of [Lab Sheet 4](https://colab.research.google.com/github/sap-shef/SpeechProcesssingLab/blob/main/Lab-Sheet-Solutions/Lab-Sheet-4-Solution.ipynb): For finding a proper [FFT](https://en.wikipedia.org/wiki/Fast_Fourier_transform) length $L_{\\mathrm{FFT}}$ we are interested in a number which is higher than the length of our time domain sequence. Furthermore, a power of 2 is beneficial to allow the use of the efficient [Radix-2 implementation](https://en.wikipedia.org/wiki/Cooley%E2%80%93Tukey_FFT_algorithm) for the `fft()`. The following function `nextPowerOf2(L)` calculates an appropriate FFT length `L_FFT` which is a power of $2$ and is always longer than the signal length $L$. Play around with different $L$, e.g. by using the example provided in the main comment in the code below.\n",
    "\n",
    "```python\n",
    "for L in range(20):\n",
    "    print('nextPowerOf2(L) for L='+str(L)+' is '+str(nextPowerOf2(L)))\n",
    "```"
   ]
  },
  {
   "cell_type": "code",
   "execution_count": null,
   "id": "f977aae1",
   "metadata": {},
   "outputs": [],
   "source": [
    "def nextPowerOf2(L):\n",
    "    '''\n",
    "    Calculates the smallest power of 2 which is bigger than input variable n\n",
    "    \n",
    "    This helper function can be used to calculate an appropriate \n",
    "    length for an DFT which is longer than the signal length n and a power of 2.\n",
    "    \n",
    "    Input:\n",
    "        L: int\n",
    "            signal length\n",
    "    Output:\n",
    "        p: integer which is greater or equal than n and a power of 2\n",
    "    \n",
    "    Example:\n",
    "        for L in range(20):\n",
    "            print('nextPowerOf2(L) for L='+str(L)+' is '+str(nextPowerOf2(L)))\n",
    "    '''\n",
    "    if (L<2):\n",
    "        return 2\n",
    "    # If n is a power of 2 then return n \n",
    "    if (L and not(L & (L - 1))):\n",
    "        return L\n",
    "    # If n is NOT a power of 2 \n",
    "    p = 1\n",
    "    while (p < L) :\n",
    "        p <<= 1 \n",
    "    return p"
   ]
  },
  {
   "cell_type": "markdown",
   "id": "4d357629",
   "metadata": {},
   "source": [
    "Complete the code below to solve [Task 1](#task_1)."
   ]
  },
  {
   "cell_type": "code",
   "execution_count": null,
   "id": "75bd4993",
   "metadata": {},
   "outputs": [],
   "source": [
    "fs=8000      # sampling frequency\n",
    "#t1=???         # time 1 in seconds\n",
    "#t2=???        # time 2 in seconds\n",
    "length=t2-t1 # signlal length in seconds\n",
    "\n",
    "# create chirp signal\n",
    "# ...\n",
    "\n",
    "# listen chirp signal\n",
    "# ...\n",
    "\n",
    "# plot chirp signal\n",
    "# ...\n",
    "\n",
    "# plot spectrum of chirp signal\n",
    "# ..."
   ]
  },
  {
   "cell_type": "markdown",
   "id": "373cb8b4",
   "metadata": {},
   "source": [
    "The `scipy.signal` library provides a function `chirp()` which is more flexible than the function we created before. See e.g. [here](https://docs.scipy.org/doc/scipy/reference/generated/scipy.signal.chirp.html) for a documentation. \n",
    "\n",
    "<br>\n",
    "<a id='task_2'></a>\n",
    "<div class=\"alert alert-block alert-info\">\n",
    "    \n",
    "**Task 2: Chirp with <code>scipy.signal</code>**\n",
    "    \n",
    "<ul>\n",
    "<li>\n",
    "    Create a linear chirp of $10$ seconds length which has a frequency of $f_0$ = $10$ Hz at the time $t=0$ seconds and $f_1$ = $6$ Hz at the time $t=5$ seconds. \n",
    "</li>\n",
    "    <li>\n",
    "    Play around with the frequencies and also generate a <strong>logarithmic chirp</strong> (see documentation link above).\n",
    "    </li>\n",
    "</ul>\n",
    "</div>\n"
   ]
  },
  {
   "cell_type": "code",
   "execution_count": null,
   "id": "9257ff56",
   "metadata": {},
   "outputs": [],
   "source": [
    "import scipy.signal as sig\n",
    "\n",
    "fs=8000   # sampling frequency\n",
    "length=10 # signlal length in seconds\n",
    "\n",
    "f0 = 10         # frequency in Hz at time t_0=0\n",
    "f1 = 6          # frequency in Hz at time t_1\n",
    "t1 = 5          # frequency in Hz at time t=0\n",
    "\n",
    "# t =\n",
    "# chp1 = sig.chirp(# ....\n",
    "\n",
    "# Your code here\n",
    "# ..."
   ]
  },
  {
   "cell_type": "markdown",
   "id": "2f452479",
   "metadata": {},
   "source": [
    "### Pyplot Spectrogram vs. Spectrum of Chirp Signal\n",
    "\n",
    "The spectrum calculated in the previous task only shows the mean spectrum (averaged over time) which does not fully reflect what we perceived while listening to the signal.\n",
    "\n",
    "<br>\n",
    "<a id='task_3'></a>\n",
    "<div class=\"alert alert-block alert-info\">\n",
    "    \n",
    "**Task 3: Spectrogram of Chirp Signal**\n",
    "    \n",
    "<ul>\n",
    "    <li> \n",
    "        Show the spectrogram of the created chirp signal using the <code>plt.specgram()</code> function and compare it to the previously calculated spectra.\n",
    "    </li>\n",
    "</ul>\n",
    "</div>"
   ]
  },
  {
   "cell_type": "code",
   "execution_count": null,
   "id": "8a529225",
   "metadata": {},
   "outputs": [],
   "source": [
    "# Your code here\n",
    "# ..."
   ]
  },
  {
   "cell_type": "markdown",
   "id": "575c5b1f",
   "metadata": {},
   "source": [
    "## Copyright\n",
    "\n",
    "This notebook is licensed under [Creative Commons Attribution 4.0](https://creativecommons.org/licenses/by/4.0/) to be used during the lecture COM[3502](http://www.dcs.shef.ac.uk/intranet/teaching/public/modules/level3/com3502.html \"Open web page for COM3502 module\")-[4502](http://www.dcs.shef.ac.uk/intranet/teaching/public/modules/level4/com4502.html \"Open web page for COM4502 module\")-[6502](http://www.dcs.shef.ac.uk/intranet/teaching/public/modules/msc/com6502.html \"Open web page for COM4502 module\") Speech Processing at the [University of Sheffield](https://www.sheffield.ac.uk/ \"Open web page of The University of Sheffield\"), Dept. of [Computer Science](https://www.sheffield.ac.uk/dcs \"Open web page of Department of Computer Science, University of Sheffield\"). You may download, [clone](https://docs.github.com/en/repositories/creating-and-managing-repositories/cloning-a-repository) or [fork](https://docs.github.com/en/get-started/quickstart/fork-a-repo) it to your computer or private [GitHub](https://github.com/) account. "
   ]
  }
 ],
 "metadata": {
  "kernelspec": {
   "display_name": "Python 3 (ipykernel)",
   "language": "python",
   "name": "python3"
  },
  "language_info": {
   "codemirror_mode": {
    "name": "ipython",
    "version": 3
   },
   "file_extension": ".py",
   "mimetype": "text/x-python",
   "name": "python",
   "nbconvert_exporter": "python",
   "pygments_lexer": "ipython3",
   "version": "3.9.7"
  }
 },
 "nbformat": 4,
 "nbformat_minor": 5
}
