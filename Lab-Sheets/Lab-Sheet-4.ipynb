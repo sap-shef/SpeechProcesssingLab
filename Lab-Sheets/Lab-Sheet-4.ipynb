{
 "cells": [
  {
   "cell_type": "markdown",
   "id": "3db92ee4",
   "metadata": {},
   "source": [
    "# Lab Sheet 4 (COM3502-4502-6502 Speech Processing)"
   ]
  },
  {
   "cell_type": "markdown",
   "id": "70d29bab",
   "metadata": {},
   "source": [
    "This lab sheet is part of the lecture COM[3502](http://www.dcs.shef.ac.uk/intranet/teaching/public/modules/level3/com3502.html \"Open web page for COM3502 module\")-[4502](http://www.dcs.shef.ac.uk/intranet/teaching/public/modules/level4/com4502.html \"Open web page for COM4502 module\")-[6502](http://www.dcs.shef.ac.uk/intranet/teaching/public/modules/msc/com6502.html \"Open web page for COM4502 module\") Speech Processing at the [University of Sheffield](https://www.sheffield.ac.uk/ \"Open web page of The University of Sheffield\"), Dept. of [Computer Science](https://www.sheffield.ac.uk/dcs \"Open web page of Department of Computer Science, University of Sheffield\")."
   ]
  },
  {
   "cell_type": "markdown",
   "id": "e1ed6755",
   "metadata": {},
   "source": [
    "It is probably easiest to open this Jupyter Notebook with [Google Colab](https://colab.research.google.com/notebooks/intro.ipynb#recent=true \"Open in Google Colab\") by clicking on the icon on the right, but this notebook is displayed best when opened locally using Jupyter Notebook (e.g. as part of the [Anaconda](https://www.anaconda.com/) distribution which is already installed on the lab computers). <a href=\"https://colab.research.google.com/github/sap-shef/SpeechProcesssingLab/blob/main/Lab-Sheets/Lab-Sheet-4.ipynb\"><img align=\"right\" src=\"https://colab.research.google.com/assets/colab-badge.svg\" alt=\"Open Notebook in Google Colab\" title=\"Open and Execute the Notebook directly in Google Colaboratory\"></a>"
   ]
  },
  {
   "cell_type": "markdown",
   "id": "647c69e6",
   "metadata": {},
   "source": [
    "<div class=\"alert alert-block alert-success\" id='ILOs'>\n",
    "<strong>Intended Learning Objectives (ILOs):</strong><br>\n",
    "    \n",
    "After completing this Jupyter Notenook you should\n",
    "    \n",
    "<ul>\n",
    "<li>understand the basics if the Fourier amalysis for signals which are periodic in the time domain, i.e. how periodic time-domain signals can be decomposed into fundamental frequencies.\n",
    "</li>\n",
    "<li>be able to program periodic wave forms from scratch and compare them to the `scipy` versions.\n",
    "</li>\n",
    "<li>gain first experience using the discrete Fourier transform.\n",
    "</li>\n",
    "    \n",
    "<li>understand basic use of the <code>Python</code> libraries \n",
    "    <ul>\n",
    "    <li><a href=\"https://numpy.org/doc/stable/index.html\"><code>Numpy</code></a> commands \n",
    "        <a href=\"https://numpy.org/doc/stable/reference/generated/numpy.floor.html\"><code>floor()</code></a>,\n",
    "        <a href=\"https://numpy.org/doc/stable/reference/generated/numpy.fft.rfft.html\"><code>rfft()</code></a>,\n",
    "        <a href=\"https://numpy.org/doc/stable/reference/generated/numpy.fft.fft.html\"><code>fft()</code></a>,\n",
    "        <a href=\"https://numpy.org/doc/stable/reference/generated/numpy.fft.fftshift.html\"><code>fftshift()</code></a>,\n",
    "        <a href=\"https://numpy.org/doc/stable/reference/generated/numpy.absolute.html\"><code>abs()</code></a>,\n",
    "        <a href=\"https://numpy.org/doc/stable/reference/generated/numpy.real.html\"><code>real()</code></a>,\n",
    "        <a href=\"https://numpy.org/doc/stable/reference/generated/numpy.imag.html\"><code>imag()</code></a>,\n",
    "        etc.\n",
    "    </li>\n",
    "    <li><a href=\"https://docs.scipy.org/doc/scipy/index.html\"><code>scipy.signal</code></a> commands \n",
    "        <a href=\"https://docs.scipy.org/doc/scipy/reference/generated/scipy.signal.sawtooth.html\"><code>sawtooth()</code></a>, \n",
    "        <a href=\"https://docs.scipy.org/doc/scipy/reference/generated/scipy.signal.square.html\"><code>square()</code></a>, \n",
    "        etc.\n",
    "    </li>\n",
    "    </ul>\n",
    "</li>\n",
    "</ul>\n",
    "</div>"
   ]
  },
  {
   "cell_type": "code",
   "execution_count": null,
   "id": "258a82b5",
   "metadata": {},
   "outputs": [],
   "source": [
    "# Let's do the ususal necessary and nice-to-have imports\n",
    "%matplotlib inline\n",
    "import matplotlib.pyplot as plt  # plotting\n",
    "#import seaborn as sns; sns.set() # styling ((un-)comment if you want)\n",
    "import numpy as np               # math"
   ]
  },
  {
   "cell_type": "markdown",
   "id": "6de41db4",
   "metadata": {},
   "source": [
    "## Frequency analysis (of periodic signals)\n",
    "\n",
    "The **[Fourier](https://en.wikipedia.org/wiki/Joseph_Fourier \"Click here to read additional information on Joseph Fourier on Wikipedia\") Theorem** states that any periodic signal of frequency $f_0$ can be constructed exactly by adding together ‘sinusoids’ (sine waves) with frequencies $f_0$, $2f_0$, $3f_0$, $4f_0$, $5f_0$, etc. The segmentation of a periodic time domain signal into sinusoids is called [Fourier analysis](https://en.wikipedia.org/wiki/Fourier_analysis \"Read additional information on Fourier Analysis on Wikipedia\").\n",
    "\n",
    "Each sinusoid in this ‘[Fourier Series](https://en.wikipedia.org/wiki/Fourier_series \"Read additional information about the Fourier Series on Wikipedia\")’ are characterised by their\n",
    "* frequency,\n",
    "* amplitude, and\n",
    "* phase.\n",
    "\n",
    "$f_0$ is termed the *fundamental frequency*.\n",
    "\n",
    "$2 f_0$, $3 f_0$, $4 f_0$, etc. are termed the *harmonics*."
   ]
  },
  {
   "cell_type": "markdown",
   "id": "bb59a85d",
   "metadata": {},
   "source": [
    "### The sawtooth signal\n",
    "The [sawtooth](https://en.wikipedia.org/wiki/Sawtooth_wave \"Read additional information on the saw tooth signal on Wikipedia\") signal in its most simple form is defined as\n",
    "\n",
    "\\begin{equation}\n",
    "x_{\\mathrm{saw}}(t) = t - \\lfloor t \\rfloor, \\tag{1}\n",
    "\\label{eq:SawtoothSimple}\n",
    "\\end{equation}\n",
    "\n",
    "with the opertor $\\lfloor \\cdot \\rfloor$, being the floor operator (`np.floor()`). (\\ref{eq:SawtoothSimple}) can be redefined to be centred around $0$ as\n",
    "\n",
    "\\begin{equation}\n",
    "x_{\\mathrm{saw}}(t) = 2 \\left(t - \\lfloor t \\rfloor \\right) - 1. \\tag{2}\n",
    "\\label{eq:SawtoothSimpleCenteredAround0}\n",
    "\\end{equation}\n",
    "\n",
    "While it should not be a problem to generate the sawtooth signal using equations \\eqref{eq:SawtoothSimple} or \\eqref{eq:SawtoothSimpleCenteredAround0}, the `scipy` library gives us more flexibility to generate and visualise a sawtooth signals since they can be generated as if they were sine signals. "
   ]
  },
  {
   "cell_type": "code",
   "execution_count": null,
   "id": "b8493fac",
   "metadata": {},
   "outputs": [],
   "source": [
    "from scipy import signal\n",
    "\n",
    "t = np.linspace(0, 2, 500)\n",
    "saw_tooth = 2*(t-np.floor(t))-1\n",
    "\n",
    "f0 = 1 # frequency in Hz for scipy samtooth\n",
    "saw_tooth2 = signal.sawtooth(2 * np.pi * f0 * t)\n",
    "\n",
    "plt.plot(t, saw_tooth, label='$2$ ($t$ - floor($t$)) - $1$')\n",
    "plt.plot(t, saw_tooth2, '--', label='scipy sawtooth');\n",
    "plt.xlabel('time $t$ in seconds'); plt.ylabel('$x(t)$')\n",
    "plt.legend();"
   ]
  },
  {
   "cell_type": "markdown",
   "id": "425c54b3",
   "metadata": {},
   "source": [
    "We see in the plot above that as well implementing the sawtooth using equation (2) as using the `scipy` library leads to the same curve (though the `scipy` method provised more fleibility.\n",
    "\n",
    "<br>\n",
    "<div class=\"alert alert-block alert-info\">\n",
    "    \n",
    "**Task 1: Generating a Sawtooth Signal**\n",
    "    \n",
    "Generate a sawtooth signal of length $2$ seconds and a fundamental frequency $f_0 = 200$ Hz using the `scipy` library and play it back.\n",
    "    \n",
    "To achieve this, replace the comments indicated by `# ...` in the code below.\n",
    "    \n",
    "The code will show the initial $20 \\,\\mathrm{ms}$ of the time domain signal as well as the spectrum (frequency domain) using the function `np.fft.rfft()`, which calculates the (complex) discrete Fourier Transform (DFT) of a real-valued time series.\n",
    "</div>"
   ]
  },
  {
   "cell_type": "code",
   "execution_count": null,
   "id": "7492e26e",
   "metadata": {},
   "outputs": [],
   "source": [
    "from scipy import signal            # for easy sawtooth signal generation\n",
    "from IPython import display as ipd  # to playback audio signals\n",
    "\n",
    "#fs= # ...                  # sampling frequency\n",
    "#t = np.arange( # ...       # time vector\n",
    "\n",
    "#f0 = #...                   # frequency in Hz for scipy sawtooth\n",
    "#saw_tooth = signal.sawtooth( # ...\n",
    "\n",
    "# plot first 20 ms (=160 samples at sampling frequency of 8000 Hz)\n",
    "plt.subplot(1,2,1)\n",
    "plt.plot(t[0:160], saw_tooth[0:160], '--', label='scipy sawtooth');\n",
    "plt.xlabel('time $t$ in seconds'); plt.ylabel('$x(t)$')\n",
    "plt.legend();\n",
    "\n",
    "# calculate the spectum (frequency domain representation)\n",
    "FFT_length = 2**15 # take a power of two which is larger than the signal length\n",
    "f = np.linspace(0, fs/2, num=int(FFT_length/2+1))\n",
    "spectrum = np.abs(np.fft.rfft(saw_tooth,n=FFT_length))\n",
    "\n",
    "# plot the spectrum\n",
    "plt.subplot(1,2,2)\n",
    "plt.plot(f,spectrum)\n",
    "plt.xlabel('frequency $f$ in Hz');plt.ylabel('$x(f)$')\n",
    "\n",
    "plt.tight_layout() # this allowes for some space for the title text.\n",
    "\n",
    "# playback sound file (if you want)\n",
    "ipd.Audio(saw_tooth, rate=fs)"
   ]
  },
  {
   "cell_type": "markdown",
   "id": "3a29cdb1",
   "metadata": {},
   "source": [
    "### Constructing a sawtooth signal from its sinusoids\n",
    "\n",
    "In the following we want to construct the sawtooth signal from it's Fourier Series. The time-reversed sawtooth signal can be described in a simple form by the following Fourier series:\n",
    "\n",
    "\\begin{eqnarray*}\n",
    "\\label{eq:FourierSeriesSawtoothSimple}\n",
    "x'_{\\mathrm{saw}}(t)  &=& \\frac{2}{\\pi}\\left[\\sin(\\omega_0t) + \\frac{\\sin(2\\omega_0t)}{2} + \\frac{\\sin(3\\omega_0t)}{3} + \\cdots\\right]\\tag{3}\\\\\n",
    "     &=& \\frac{2}{\\pi} \\sum_{i=1}^{\\infty}\\,\\frac{\\sin(i\\omega_0t)}{i}\\tag{4}\n",
    "\\end{eqnarray*}\n",
    "\n",
    "with $\\omega = 2 \\pi f$ being the angular frequency, i.e. $\\omega_0 = 2 \\pi f_0$.\n",
    "\n",
    "Please note that we will first implement the Fourier Series of the time-reversed sawtooth signal ($x(-t)$) since the equation \\eqref{eq:FourierSeriesSawtoothSimple} is simpler. In a next step we will have a look at the Fourier Series in the time direction as defined above.\n",
    "\n",
    "<br>\n",
    "<div class=\"alert alert-block alert-info\">\n",
    "    \n",
    "**Task 2: Fourier series of Saw-tooth signal**\n",
    "    \n",
    "Generate the first four sinusoids from \\eqref{eq:FourierSeriesSawtoothSimple} and show that a superposition of these results in a sawtooth signal. For a simple visualisation you could choose $f_s = 8000$ Hz, $f_0=2$ Hz and a length of $2$ seconds for the time vector $\\mathbf{t}$. But feel free to play around with these values.\n",
    "    \n",
    "Hint: It might be a good idea to realise the sawtooth generation as a function, e.g. with the following interface:<br>\n",
    "`generateSawTooth(f0=1, length = 2, fs=8000, order=10)`\n",
    "\n",
    "</div>"
   ]
  },
  {
   "cell_type": "code",
   "execution_count": null,
   "id": "fde6a924",
   "metadata": {},
   "outputs": [],
   "source": [
    "# your code here\n",
    "#\n",
    "# ..."
   ]
  },
  {
   "cell_type": "markdown",
   "id": "d7c8d75a",
   "metadata": {},
   "source": [
    "From the lecture we should remember that the sine (and cosine) oscillations can be visualised as projections of a vector from the center of a carthesian coordinate system to the unit circle moving on the unit circle to the $x$ and $y$ axes as visualised below.\n",
    "\n",
    "<img src=\"signals-sine-cosine-circle2.gif\" alt=\"Relation between unit circle and the sine/cosine generation.\" style=\"width: 500px;\"/>\n",
    "<center><span style=\"font-size:smaller\">\n",
    "    <b>Fig. 1:</b> Relation between sine and cosins and the (unit) cirle.\n",
    "</span></center>\n",
    "\n",
    "If we add  a second sine (here with double frequency ($2\\omega_0$) but half the amplitude) on top of the first one, i.e. want to implement $\\sin(\\omega_0 t) + 0.5 \\sin(2\\omega_0t)$, this can be interpreted as adding another vector starting from the current value on the unit circle (green point in the left panel of the visualisation below) to a second circle with half the radius (amplitude factor 0.5).\n",
    "\n",
    "<img src=\"signals-sine-circle-fourier-superposition2.gif\" alt=\"Relation between unit circle and two sine signals as first two components of saw-tooth Fourier series.\" style=\"width: 500px;\"/>\n",
    "<center><span style=\"font-size:smaller\">\n",
    "    <b>Fig. 2:</b> Superposition of two sine signals of different frequency ('speed') and the relation to the respective cirles.\n",
    "</span></center>\n",
    "\n",
    "The center panel of the figure above shows the corresponding time domain signal which is already becoming 'somewhat sawtooth-like'. The right panel shows the spectral content, i.e. two spectral lines at the frequencies of the respective sine signals.\n",
    "\n",
    "<img src=\"signals-sine-circle-fourier-superposition4.gif\" alt=\"Relation between unit circle and four sine signals as first four components of saw-tooth Fourier series.\" style=\"width: 500px;\"/>\n",
    "<center><span style=\"font-size:smaller\">\n",
    "    <b>Fig. 3:</b> Superposition of four sine signals of different frequency ('speed') and the relation to the respective cirles.\n",
    "</span></center>"
   ]
  },
  {
   "cell_type": "markdown",
   "id": "bfcc0d5d",
   "metadata": {},
   "source": [
    "If we want the saw-tooth signal to start with the part increasing from $0$ to $1$ first this can be achived by\n",
    "\n",
    "\\begin{eqnarray*}\n",
    "\\label{eq:FourierSeriesSawtoothRAisingBeginning}\n",
    "x_{\\mathrm{saw}}(t) &=& -\\frac{2h}{\\pi}\\left[\\sin(\\omega_0t)-\\frac{\\sin(2\\omega_0t)}{2}+\\frac{\\sin(3\\omega_0t)}{3}\\mp \\cdots\\right]\\tag{5}\\\\\n",
    "\\label{eq:FourierSeriesSawtoothRAisingBeginning2}\n",
    " &=& -\\frac{2h}{\\pi} \\sum_{i=1}^{\\infty}\\,(-1)^{i-1}\\frac{\\sin(i\\omega_0t)}{i}\\tag{6}\n",
    "\\end{eqnarray*}\n",
    "\n",
    "In \\eqref{eq:FourierSeriesSawtoothRAisingBeginning} and \\eqref{eq:FourierSeriesSawtoothRAisingBeginning2}, $h$ is the height and $\\omega = 2 \\pi f$ the angular frequency.\n",
    "\n",
    "<br>\n",
    "<div class=\"alert alert-block alert-info\">\n",
    "    \n",
    "**Task 3: Fourier series of Saw-tooth signal (time-reverse)**\n",
    "    \n",
    "Realise a function `generateSawTooth2(f0=1, length = 2, fs=8000, order=10)` implementing equation \\eqref{eq:FourierSeriesSawtoothRAisingBeginning}.\n",
    "\n",
    "</div>"
   ]
  },
  {
   "cell_type": "code",
   "execution_count": null,
   "id": "2d981d90",
   "metadata": {},
   "outputs": [],
   "source": [
    "# your code here\n",
    "#\n",
    "# ..."
   ]
  },
  {
   "cell_type": "markdown",
   "id": "72a531ed",
   "metadata": {},
   "source": [
    "### Trinangular wave form\n",
    "\n",
    "Another periodic signal is the triangular wave form:\n",
    "\n",
    "\n",
    "\\begin{eqnarray}\n",
    "\\label{eq:FourierSeriesTriangular}\n",
    "x_{\\mathrm{tri}}(t) &=& \\frac{8h}{\\pi^2}\\left[\\sin(\\omega_0t)-\\frac{1}{3^2}\\sin(3\\omega_0t)+\\frac{1}{5^2}\\sin(5\\omega_0t)\\mp \\cdots\\right] \\tag{7}\\\\\n",
    " &=& \\frac{8h}{\\pi^2} \\sum_{i=1}^{\\infty}\\,(-1)^{i-1}\\frac{\\sin((2i-1)\\omega_0t)}{(2i-1)^2} \\tag{8}\n",
    "\\end{eqnarray}\n",
    "\n",
    "<br>\n",
    "<div class=\"alert alert-block alert-info\">\n",
    "    \n",
    "**Task 4: Fourier series of Trinangular signal**\n",
    "    \n",
    "Realise a function `generateTriangular(f0=1, length = 2, fs=8000, order=10)` implementing equation \\eqref{eq:FourierSeriesTriangular} and visualise the resulting wave form.\n",
    "\n",
    "</div>"
   ]
  },
  {
   "cell_type": "code",
   "execution_count": null,
   "id": "feb9841c",
   "metadata": {},
   "outputs": [],
   "source": [
    "# your code here\n",
    "#\n",
    "# ..."
   ]
  },
  {
   "cell_type": "markdown",
   "id": "eae4ff74",
   "metadata": {},
   "source": [
    "## (Discrete) Fourier Transform DFT - An example\n",
    "\n",
    "The discrete Fourier transform (DFT) can be realised by `numpy`'s `np.fft.fft()` command. The discrete Fourier transform (DFT) is used to transform general time series into the frequency domain (even if they are aperiodic). Let's gain a bit experience using the DFT to analyse spectral content.\n",
    "\n",
    "<br>\n",
    "<div class=\"alert alert-block alert-info\">\n",
    "    \n",
    "**Task 5: Fourier Transform DFT - An example**\n",
    "  \n",
    "Create the superposition of the two sinusoidial signals\n",
    "\n",
    "\\begin{eqnarray}\n",
    "    x(t)             &=& \\mathrm{sin}_1(t) + \\mathrm{sin}_2(t)\n",
    "\\end{eqnarray}\n",
    "with \n",
    "\\begin{eqnarray}\n",
    "    \\mathrm{sin}_1(t)&=&\\mathrm{sin}(2 \\pi f_1 t)\\\\\n",
    "    \\mathrm{sin}_2(t)&=&\\mathrm{sin}(2 \\pi f_2 t+\\phi_1)\\\\\n",
    "    f_1&=& 1230 \\,\\mathrm{Hz} \\\\\n",
    "    f_2&=&1800 \\,\\mathrm{Hz} \\\\\n",
    "    \\phi_1&=& \\pi\n",
    "\\end{eqnarray}\n",
    "\n",
    "Plot time domain signal (e.g. for the first $20 \\,\\mathrm{ms}$) as well as the spectrum. Which one provides more insight into the signal properties, assuming that you don't know the mathematical description.\n",
    "    \n",
    "Hint: The DFT length $L_{\\mathrm{DFT}}$ needed for calculating the DFT by using the fast Fourier transform (FFT) algorithm <code>np.fft.fft(x,L_DFT)</code> has to be chosen to be longer then the signal $x$. The FFT algorithms is, in general, fastest if the DFT length $L_{\\mathrm{DFT}}$ is a power of $2$. Therefore, you can choose the DFT length to be <code>L_DFT=2**14</code>.\n",
    "    \n",
    "Further hint: The spectrum of a real-valued time domain signal is always complex, i.e. you can either plot real and imaginary part or absolute value (and phase).\n",
    "</div>"
   ]
  },
  {
   "cell_type": "code",
   "execution_count": null,
   "id": "8cea3514",
   "metadata": {},
   "outputs": [],
   "source": [
    "# your code here\n",
    "#\n",
    "# ..."
   ]
  },
  {
   "cell_type": "markdown",
   "id": "f275e5b6",
   "metadata": {},
   "source": [
    "## Copyright\n",
    "\n",
    "This notebook is licensed under [Creative Commons Attribution 4.0](https://creativecommons.org/licenses/by/4.0/) to be used during the lecture COM[3502](http://www.dcs.shef.ac.uk/intranet/teaching/public/modules/level3/com3502.html \"Open web page for COM3502 module\")-[4502](http://www.dcs.shef.ac.uk/intranet/teaching/public/modules/level4/com4502.html \"Open web page for COM4502 module\")-[6502](http://www.dcs.shef.ac.uk/intranet/teaching/public/modules/msc/com6502.html \"Open web page for COM4502 module\") Speech Processing at the [University of Sheffield](https://www.sheffield.ac.uk/ \"Open web page of The University of Sheffield\"), Dept. of [Computer Science](https://www.sheffield.ac.uk/dcs \"Open web page of Department of Computer Science, University of Sheffield\"). You may download, [clone](https://docs.github.com/en/repositories/creating-and-managing-repositories/cloning-a-repository) or [fork](https://docs.github.com/en/get-started/quickstart/fork-a-repo) it to your computer or private [GitHub](https://github.com/) account. "
   ]
  }
 ],
 "metadata": {
  "kernelspec": {
   "display_name": "Python 3 (ipykernel)",
   "language": "python",
   "name": "python3"
  },
  "language_info": {
   "codemirror_mode": {
    "name": "ipython",
    "version": 3
   },
   "file_extension": ".py",
   "mimetype": "text/x-python",
   "name": "python",
   "nbconvert_exporter": "python",
   "pygments_lexer": "ipython3",
   "version": "3.9.7"
  }
 },
 "nbformat": 4,
 "nbformat_minor": 5
}
