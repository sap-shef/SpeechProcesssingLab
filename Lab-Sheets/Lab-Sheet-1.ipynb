{
 "cells": [
  {
   "cell_type": "markdown",
   "id": "aaf92294",
   "metadata": {},
   "source": [
    "# Lab Sheet 1 (COM3502-4502-6502 Speech Processing)"
   ]
  },
  {
   "cell_type": "markdown",
   "id": "8aa8a8e6",
   "metadata": {},
   "source": [
    "This lab sheet is part of the lecture COM[3502](http://www.dcs.shef.ac.uk/intranet/teaching/public/modules/level3/com3502.html \"Open web page for COM3502 module\")-[4502](http://www.dcs.shef.ac.uk/intranet/teaching/public/modules/level4/com4502.html \"Open web page for COM4502 module\")-[6502](http://www.dcs.shef.ac.uk/intranet/teaching/public/modules/msc/com6502.html \"Open web page for COM4502 module\") Speech Processing at the [University of Sheffield](https://www.sheffield.ac.uk/ \"Open web page of The University of Sheffield\"), Dept. of [Computer Science](https://www.sheffield.ac.uk/dcs \"Open web page of Department of Computer Science, University of Sheffield\")."
   ]
  },
  {
   "cell_type": "markdown",
   "id": "829b4dc6",
   "metadata": {},
   "source": [
    "It is probably easiest to open this Jupyter Notebook with [Google Colab](https://colab.research.google.com/notebooks/intro.ipynb#recent=true \"Open in Google Colab\") since GitHub's Viewer does not show all details correctly. <a href=\"https://colab.research.google.com/github/sap-shef/SpeechProcesssingLab/blob/main/Lab-Sheets/Lab-Sheet-1.ipynb\"><img align=\"right\" src=\"https://colab.research.google.com/assets/colab-badge.svg\" alt=\"Open Notebook in Google Colab\" title=\"Open and Execute the Notebook directly in Google Colaboratory\"></a>\n",
    "\n",
    "Please put questions, comments and correction suggestions in the [Blackboard](https://vle.shef.ac.uk) discussion board or send an email to [s.goetze@sheffield.ac.uk](mailto:s.goetze@sheffield.ac.uk)."
   ]
  },
  {
   "cell_type": "markdown",
   "id": "019cb001",
   "metadata": {},
   "source": [
    "<div class=\"alert alert-block alert-success\">\n",
    "<strong>Intended Learning Objectives (ILOs):</strong><br>\n",
    "    \n",
    "After completing this Jupyter Notenook you should\n",
    "    \n",
    "<ul>\n",
    "<li>be familiar with the concept of importing libraries to extend Python's functionality\n",
    "</li>\n",
    "    \n",
    "<li>be able to generate, visualise (and playback) sine signals and audio (WAVE) files downloaded from the Internet\n",
    "</li>\n",
    "    \n",
    "<li>have an initial underdtanding of plotting signals over discrete time index $k$ or continuous time $t$\n",
    "</li>\n",
    "\n",
    "<li>understand basic use of functions from the <code>Python</code> libraries \n",
    "    <ul>\n",
    "    <li><a href=\"https://matplotlib.org/\"><code>Matplotlib</code></a> for graphical output (like \n",
    "        <a href=\"https://matplotlib.org/stable/api/_as_gen/matplotlib.pyplot.plot.html\"><code>plot()</code></a>), \n",
    "        <a href=\"https://matplotlib.org/stable/api/_as_gen/matplotlib.pyplot.xlabel.html\"><code>xlabel()</code></a>, \n",
    "        <a href=\"https://matplotlib.org/stable/api/_as_gen/matplotlib.pyplot.xlabel.html\"><code>ylabel()</code></a>, \n",
    "        <a href=\"https://matplotlib.org/stable/api/_as_gen/matplotlib.pyplot.legend.html\"><code>legend()</code></a>,\n",
    "        <a href=\"https://matplotlib.org/stable/api/_as_gen/matplotlib.pyplot.subplot.html\"><code>subplot()</code></a>,\n",
    "        etc.)\n",
    "    </li>\n",
    "    <li><a href=\"https://numpy.org/doc/stable/index.html\"><code>Numpy</code></a> for basic mathematical functions like \n",
    "        <a href=\"https://numpy.org/doc/stable/reference/generated/numpy.arange.html\"><code>arange()</code></a>, \n",
    "        <a href=\"https://numpy.org/doc/stable/reference/generated/numpy.linspace.html\"><code>linspace()</code></a>, \n",
    "        <a href=\"https://numpy.org/doc/stable/reference/generated/numpy.sin.html\"><code>sin()</code></a>, \n",
    "        <a href=\"https://numpy.org/doc/stable/reference/generated/numpy.log10.html\"><code>log10()</code></a>, \n",
    "        etc.\n",
    "    </li>\n",
    "    <li>interactive Python class <code>IPython.display</code> (in particular the playback function \n",
    "        <a href=\"https://ipython.org/ipython-doc/3/api/generated/IPython.display.html\"><code>Audio()</code></a>)\n",
    "    </li>\n",
    "    </ul>\n",
    "</li>\n",
    "</ul>\n",
    "</div>"
   ]
  },
  {
   "cell_type": "markdown",
   "id": "833d4ce1",
   "metadata": {},
   "source": [
    "## Use of external libraries\n",
    "\n",
    "For the Speech Processing module, one of the intended learning outcomes is to understand basic functionality of signal processing algorithms for which you usually would use external libraries (e.g. `librosa`, `PyAudio` or similar). We try to avoid using these libraries as far as possible, until we understand the underlying principles.\n",
    "\n",
    "However, some very basic functionality is provided by the following libraries (which we therefore will regularly use):"
   ]
  },
  {
   "cell_type": "code",
   "execution_count": 1,
   "id": "e3da92a0",
   "metadata": {},
   "outputs": [],
   "source": [
    "#Let's do some necessary and nice-to-have imports\n",
    "%matplotlib inline\n",
    "import matplotlib.pyplot as plt  # plotting\n",
    "import numpy as np               # math\n",
    "import seaborn as sns; sns.set() # styling (optional)"
   ]
  },
  {
   "cell_type": "markdown",
   "id": "b1b6ae59",
   "metadata": {},
   "source": [
    "Further libraries, which we need less frequently will be imported when needed only in some notebooks (like e.g. the library `soundfile` used below which allows to load and save audio files from/to hard disk). In case you get errors using such libraries you can install them using the command `!pip install <library-name>`. \n",
    "\n",
    "```python\n",
    "# remove the comment character (#) in case you need to install this library.\n",
    "#!pip install soundfile\n",
    "```\n",
    "\n",
    "Once installed you can comment the line again using the comment character `#` to avoid that the install process is repeated each time you execute the cell."
   ]
  },
  {
   "cell_type": "markdown",
   "id": "e9f5d49b",
   "metadata": {},
   "source": [
    "## Task 1: Generate, show and listen to a sine signal\n",
    "\n",
    "A [sine signal](https://en.wikipedia.org/wiki/Sine_wave \"Click for more information on Wikipedia\") is defined as \n",
    "\n",
    "\\begin{equation}\n",
    "x(t)= \\mbox{sin}(2 \\pi f t + \\phi)\n",
    "\\label{eq:sin} \\tag{1}\n",
    "\\end{equation}    \n",
    "\n",
    "for a particular frequency $f$ and an initial phase $\\phi$. \n",
    "\n",
    "A sine signal can be generated using `numpy`'s sine function `np.sin()`.\n",
    "\n",
    "To implement \\eqref{eq:sin}, we first need a time vector $\\mathbf{t}$ which can be created using `numpy`'s `arange()` function.\n",
    "\n",
    "<br>\n",
    "<div class=\"alert alert-block alert-info\">\n",
    "    \n",
    "**Task 1:**\n",
    "    \n",
    "Generate a sine singal having a length of $\\frac{1}{4}$ seconds and a frequency $f=250$ Hz at a sampling frequency of $f_s=8000$ Hz. Display the time domain signal and play it back. Please note that playback of sine signals may be of high volume, so please cosider to adapt the volume to a low and comfortable level during playback.\n",
    "    \n",
    "It makes sense to first generate a time vector $t$. Consider using one of the commands <a href=\"https://numpy.org/doc/stable/reference/generated/numpy.arange.html\"><code>np.arange(...)</code></a> or <a href=\"https://numpy.org/doc/stable/reference/generated/numpy.linspace.html\"><code>np.linspace(...)</code></a> (you can familiarise yourself with both functions by following the links to the general <code>numpy</code> documentation).\n",
    "    \n",
    "Play around with different frequencies. Play around with phase shifts by setting $\\phi \\neq 0$.\n",
    "</div>"
   ]
  },
  {
   "cell_type": "code",
   "execution_count": null,
   "id": "6b31ccec",
   "metadata": {},
   "outputs": [],
   "source": [
    "# create the signal\n",
    "\n",
    "# Time specifications:\n",
    "fs = 8000                        # samples per second\n",
    "dt = 1/fs                        # seconds per sample\n",
    "StopTime = 0.25                  # length of signal in seconds\n",
    "#t = ...                          # time vector in seconds\n",
    "\n",
    "# sine signal of frequency f\n",
    "#f = ???                          # frequency in hertz\n",
    "#x = np.sin(2*np.pi*f*t)          # sine wave signal"
   ]
  },
  {
   "cell_type": "markdown",
   "id": "ae25ca94",
   "metadata": {},
   "source": [
    "Display the time domain signal given in [(1)](#mjx-eqn-eq%3Asin) using commands from the `matplotlib` library. To plot the audio signal $x(t)$ you might want to familiarise yourself with the following useful commands. Use [Google search](https://www.google.com/ \"Open Google Serach in browser window.\") (or another search service of your choice) to familiarise yourself with the Python and `matplotlib` help pages.\n",
    "\n",
    "```python\n",
    "# useful commands you may want to familiarise yourself with:\n",
    "# plt.plot(...\n",
    "# plt.xlabel(...\n",
    "# plt.ylabel(...\n",
    "# plt.legend(...\n",
    "# plt.xlim(...\n",
    "# plt.ylim(...\n",
    "```"
   ]
  },
  {
   "cell_type": "code",
   "execution_count": null,
   "id": "bb5be151",
   "metadata": {},
   "outputs": [],
   "source": [
    "# plot the signal\n",
    "# ...\n"
   ]
  },
  {
   "cell_type": "markdown",
   "id": "67f2c706",
   "metadata": {},
   "source": [
    "Playback the sound file using the method `IPython.display.Audio(...)` from the library `IPython`). As a hint to avoid confusion: The `Audio()` command can be used for two different purposes, i.e. either for playback of a file directly from hard disk or for playback of a variable (see [`Audio` help pages](https://ipython.org/ipython-doc/stable/api/generated/IPython.display.html \"Open help page for Audio command\") for detailed info and examples):\n",
    "\n",
    "```python\n",
    "# load the file (here 'speech.wav') from hard disk and create playback widget\n",
    "ipd.Audio('speech.wav')\n",
    "# create playback widget for variable x and playback and sampling frequency fs\n",
    "ipd.Audio(x,rate=fs)\n",
    "```"
   ]
  },
  {
   "cell_type": "code",
   "execution_count": null,
   "id": "a2fd1e6b",
   "metadata": {},
   "outputs": [],
   "source": [
    "import IPython.display as ipd # for interactive notebook elements \n",
    "\n",
    "# playback the signal\n",
    "# ..."
   ]
  },
  {
   "cell_type": "markdown",
   "id": "bb9e5d4b",
   "metadata": {},
   "source": [
    "## Task 2: Superposition of sine signals\n",
    "\n",
    "Two (or more) sinosoidal signals can be added (which we call suposition).\n",
    "\n",
    "\\begin{equation}\n",
    "x(t)= \\mbox{sin}(2 \\pi f_1 t + \\phi_1) + \\mbox{sin}(2 \\pi f_2 t + \\phi_2)\n",
    "\\end{equation}    \n",
    "\n",
    "\n",
    "<br>\n",
    "<div class=\"alert alert-block alert-info\">\n",
    "    \n",
    "**Task 2:**\n",
    "    \n",
    "Generate two sinus functions of different frequency $f_1$ and $f_2$. \n",
    "    \n",
    "Diplay both signals as well as the sum of both signals in one figure using the `subplot` command.\n",
    "    \n",
    "Play around with different frequencies. Add a phase to the sine argument and play around with different phases $\\phi_1$ and $\\phi_2$. Consider listening to the sum signal.\n",
    "</div>"
   ]
  },
  {
   "cell_type": "code",
   "execution_count": null,
   "id": "408e522a",
   "metadata": {},
   "outputs": [],
   "source": [
    "# put your code here \n",
    "# ..."
   ]
  },
  {
   "cell_type": "markdown",
   "id": "589b22db",
   "metadata": {},
   "source": [
    "## Task 3: Handling Audio files\n",
    "\n",
    "To process speech signals, we want to load a sound file. The following command downloads the file `speech.wav` from the Internet to the hard disk.\n",
    "\n",
    "```python\n",
    "# download file containing speech \n",
    "!curl https://staffwww.dcs.shef.ac.uk/people/S.Goetze/sound/speech.wav -o speech.wav \n",
    "```\n",
    "\n",
    "This file can now be loaded into the variable `s` unsing the `soundfile` library.\n",
    "\n",
    "```python\n",
    "# load WAVE files\n",
    "import soundfile as sf\n",
    "s, fs = sf.read('speech.wav')\n",
    "```\n",
    "\n",
    "<div class=\"alert alert-block alert-info\">\n",
    "    \n",
    "**Task 3:**\n",
    "    \n",
    "Load the wave file above and display the signal in the time domain. Listen to the signal    \n",
    "</div>\n"
   ]
  },
  {
   "cell_type": "code",
   "execution_count": null,
   "id": "24ea1b59",
   "metadata": {},
   "outputs": [],
   "source": [
    "# put your code here to load the wave file\n",
    "\n",
    "# ...\n"
   ]
  },
  {
   "cell_type": "code",
   "execution_count": null,
   "id": "e3e0461d",
   "metadata": {},
   "outputs": [],
   "source": [
    "# plot the time domain signal\n",
    "\n",
    "# ...\n"
   ]
  },
  {
   "cell_type": "code",
   "execution_count": null,
   "id": "d6fa6e64",
   "metadata": {},
   "outputs": [],
   "source": [
    "# put your code here to play the wave file\n",
    "# ipd.Audio(...\n"
   ]
  },
  {
   "cell_type": "markdown",
   "id": "ce4e1251",
   "metadata": {},
   "source": [
    "## Task 4: Decibels (dB) - Plot signal with linear amplitude and in logarithmic amplitue \n",
    "\n",
    "The term [decibel](https://en.wikipedia.org/wiki/Decibel \"Click to read more on decibels on Wikipedia\") (usually abbreviated by dB) is commonly used to discuss or visualise levels, aplitudes, powers, etc. in relation to acoustic systems and signals (as well as in various different domains beyond speech and audio).\n",
    "\n",
    "A signal (e.g. $s[k]$) can be displayed 'normally' (i.e. with linear amplitude) or *in dB*. Since humans perceive sound *in dB* it makes sense to familiarise ourselves with how to display signals in dB.\n",
    "\n",
    "\n",
    "To plot an amplitude signal $s[k]$ (not a power of a signal $s^2[k]$) we can use (\\ref{eq:defDBamplitude}).\n",
    "\n",
    "\\begin{equation}\n",
    "s_{\\mathrm{dB}}[k] = 20 \\cdot \\mathrm{log}_{10}\\left( \\left| s[k] + \\epsilon \\right| \\right) \\label{eq:defDBamplitude}\\tag{2}\n",
    "\\end{equation}\n",
    "\n",
    "The variable $\\epsilon$ is introduced above as \"a very small number\" to aboid $\\mathrm{log}(0)$ which would be not defined. Since for real-valued numbers the logarithm is only defined for positive valued, the absolute value $|\\cdot |$ is applied before calculating the logarithm.\n",
    "\n",
    "<br>\n",
    "<div class=\"alert alert-block alert-info\">\n",
    "    \n",
    "**Task 4:**\n",
    "    \n",
    "Plot the speech signal loaded above in decibel (dB) scale.\n",
    "</div>"
   ]
  },
  {
   "cell_type": "code",
   "execution_count": null,
   "id": "57b61e1c",
   "metadata": {},
   "outputs": [],
   "source": [
    "# put your code here \n",
    "# ..."
   ]
  },
  {
   "cell_type": "markdown",
   "id": "f92b8b63",
   "metadata": {},
   "source": [
    "## Copyright\n",
    "\n",
    "This notebook is licensed to be used during the lecture COM[3502](http://www.dcs.shef.ac.uk/intranet/teaching/public/modules/level3/com3502.html \"Open web page for COM3502 module\")-[4502](http://www.dcs.shef.ac.uk/intranet/teaching/public/modules/level4/com4502.html \"Open web page for COM4502 module\")-[6502](http://www.dcs.shef.ac.uk/intranet/teaching/public/modules/msc/com6502.html \"Open web page for COM4502 module\") Speech Processing at the [University of Sheffield](https://www.sheffield.ac.uk/ \"Open web page of The University of Sheffield\"), Dept. of [Computer Science](https://www.sheffield.ac.uk/dcs \"Open web page of Department of Computer Science, University of Sheffield\"). You may download, [clone](https://docs.github.com/en/repositories/creating-and-managing-repositories/cloning-a-repository) or [fork](https://docs.github.com/en/get-started/quickstart/fork-a-repo) it to your computer or private [GitHub](https://github.com/) account. "
   ]
  }
 ],
 "metadata": {
  "kernelspec": {
   "display_name": "Python 3 (ipykernel)",
   "language": "python",
   "name": "python3"
  },
  "language_info": {
   "codemirror_mode": {
    "name": "ipython",
    "version": 3
   },
   "file_extension": ".py",
   "mimetype": "text/x-python",
   "name": "python",
   "nbconvert_exporter": "python",
   "pygments_lexer": "ipython3",
   "version": "3.9.7"
  }
 },
 "nbformat": 4,
 "nbformat_minor": 5
}
