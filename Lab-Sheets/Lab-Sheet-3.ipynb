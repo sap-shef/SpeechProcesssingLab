{
 "cells": [
  {
   "cell_type": "markdown",
   "id": "fe19becb",
   "metadata": {},
   "source": [
    "# Lab Sheet 3 (COM3502-4502-6502 Speech Processing)"
   ]
  },
  {
   "cell_type": "markdown",
   "id": "d0ffed53",
   "metadata": {},
   "source": [
    "This lab sheet is part of the lecture COM3502-4502-6502 Speech Processing at the [University of Sheffield](https://www.sheffield.ac.uk/ \"Open web page of The University of Sheffield\"), School of [Computer Science](https://www.sheffield.ac.uk/cs \"Open web page of School of Computer Science, University of Sheffield\")."
   ]
  },
  {
   "cell_type": "markdown",
   "id": "dd3d49cb",
   "metadata": {},
   "source": [
    "It is probably easiest to open this Jupyter Notebook with [Google Colab](https://colab.research.google.com/notebooks/intro.ipynb#recent=true \"Open in Google Colab\") by clicking on the icon on the right, but this notebook is displayed best when opened locally using Jupyter Notebook (e.g. as part of the [Anaconda](https://www.anaconda.com/) distribution which is already installed on the lab computers). <a href=\"https://colab.research.google.com/github/sap-shef/SpeechProcesssingLab/blob/main/Lab-Sheets/Lab-Sheet-3.ipynb\"><img align=\"right\" src=\"https://colab.research.google.com/assets/colab-badge.svg\" alt=\"Open Notebook in Google Colab\" title=\"Open and Execute the Notebook directly in Google Colaboratory\"></a>"
   ]
  },
  {
   "cell_type": "markdown",
   "id": "13eee9b4",
   "metadata": {},
   "source": [
    "<div class=\"alert alert-block alert-success\">\n",
    "<strong>Intended Learning Objectives (ILOs):</strong><br>\n",
    "    \n",
    "After completing this Jupyter Notenook you should\n",
    "    \n",
    "<ul>\n",
    "<li>understand how a (speech) signal is split into blocks of data (frames) and analysis / transforms are conducted on these blocks\n",
    "</li>\n",
    "<li>calculate short-term energy and zero-crossing rates and visualise them to distinguish between voiced and unvoiced speech parts\n",
    "</li>\n",
    "<li>understand the basics of correlation and be able to implement a correlation estimator\n",
    "</li>\n",
    "    \n",
    "<li>understand basic use of <code>Python</code> <a href=\"https://docs.python.org/3/library/functions.html\">command(s)</a>\n",
    "    <ul>\n",
    "        <li><a href=\"https://docs.python.org/3/library/functions.html#enumerate\"><code>enumerate</code></a></li>\n",
    "        <li><a href=\"https://docs.python.org/3/library/functions.html#func-range\"><code>range</code></a></li>,\n",
    "    </ul> \n",
    "</li>\n",
    "<li>and functions from the <code>Python</code> libraries \n",
    "    <ul>\n",
    "    <li><a href=\"https://numpy.org/doc/stable/index.html\"><code>Numpy</code></a> command \n",
    "        <a href=\"https://numpy.org/doc/stable/reference/generated/numpy.sign.html\"><code>sign()</code></a>, \n",
    "    </li>\n",
    "    </ul>\n",
    "</li>\n",
    "</ul>\n",
    "</div>"
   ]
  },
  {
   "cell_type": "code",
   "execution_count": 4,
   "id": "97f48ac4",
   "metadata": {},
   "outputs": [],
   "source": [
    "# Let's do the ususal necessary and nice-to-have imports\n",
    "%matplotlib inline\n",
    "import matplotlib.pyplot as plt  # plotting\n",
    "import seaborn as sns; sns.set() # styling (uncomment if you want)\n",
    "import numpy as np               # math"
   ]
  },
  {
   "cell_type": "markdown",
   "id": "92954635",
   "metadata": {},
   "source": [
    "As done in previous lab sheets, we first download a wave file $s[k]$ from the internet address `https://staffwww.dcs.shef.ac.uk/people/n.ma/comx502/speech_8kHz_murder.wav` using the `curl` command and load it to a variable `s`. You will also need the sampling frequency of the file later, so store this in a variable `fs`. \n",
    "<br>\n",
    "<div class=\"alert alert-block alert-info\">\n",
    "    \n",
    "**Task 1: Load and display speech audio signal**\n",
    "    \n",
    "Load the wave file above and display the signal in the time domain. \n",
    "</div>"
   ]
  },
  {
   "cell_type": "code",
   "execution_count": null,
   "id": "c5ac0f12",
   "metadata": {},
   "outputs": [],
   "source": [
    "# download \n",
    "# your code here ...\n",
    "\n",
    "# load \n",
    "# s,fs = ... # complete code here ...\n"
   ]
  },
  {
   "cell_type": "code",
   "execution_count": null,
   "id": "b32b1993",
   "metadata": {},
   "outputs": [],
   "source": [
    "# listen to the sound file (if you want)\n",
    "from IPython import display as ipd\n",
    "ipd.Audio(s, rate=fs)"
   ]
  },
  {
   "cell_type": "markdown",
   "id": "9661bc90",
   "metadata": {},
   "source": [
    "## Block Processing\n",
    "\n",
    "To illustrate block processing we first cut a piece of $4096$ samples, starting after $10$ seconds of audio , i.e. starting at sample no. $80,000$ for a sampling rate of $f_s = 8000 \\,\\mathrm{Hz}$."
   ]
  },
  {
   "cell_type": "code",
   "execution_count": null,
   "id": "695dfd4a",
   "metadata": {},
   "outputs": [],
   "source": [
    "# lets cut out a piece of the data\n",
    "start_sample  = int(10*fs);                   # start at 10 sec\n",
    "no_of_samples = 4096;                         # no of samples we want to cut out    \n",
    "end_sample    = start_sample + no_of_samples; # last sample to be cut out\n",
    "sample_vec    = np.linspace(start_sample, end_sample, no_of_samples)\n",
    "x1=s[start_sample:end_sample];\n",
    "\n",
    "plt.figure(figsize=(8,5))\n",
    "plt.subplot(2,1,1)\n",
    "plt.plot(np.arange(0,len(s)),s)\n",
    "plt.ylabel('$x_1[k]$')\n",
    "plt.plot(sample_vec,x1,'r')\n",
    "plt.subplot(2,1,2)\n",
    "plt.plot(sample_vec,x1,'r')\n",
    "plt.xlabel('$k$')\n",
    "plt.ylabel('$x_1$[' + str(start_sample) + '...' + str(end_sample) + ']')\n",
    "plt.title('$x_1[k]$ for ' + str(len(x1)) + ' samples between ' \n",
    "          + str(start_sample) + ' to ' + str(end_sample) + \n",
    "          ') from the 1st channel ($f_s$=' + str(fs) +')')\n",
    "plt.tight_layout() # this allowes for some space for the title text."
   ]
  },
  {
   "cell_type": "code",
   "execution_count": null,
   "id": "7e92e83c",
   "metadata": {},
   "outputs": [],
   "source": [
    "# listen to the short cut-out\n",
    "ipd.Audio(x1, rate=fs)"
   ]
  },
  {
   "cell_type": "markdown",
   "id": "79e5c746",
   "metadata": {},
   "source": [
    "The signal $x_1[k]$, i.e. the part from the figure above, will now be further analysed on block or frame basis.\n",
    "<br>\n",
    "<div class=\"alert alert-block alert-info\">\n",
    "    \n",
    "**Task 2:**\n",
    "    \n",
    "Split the signal vector in variable `x1` into smaller non-overlapping blocks of length $L_{\\mathrm{Bl}}=512$ and viasualise them, similarly as in the figure below.\n",
    "\n",
    "The python commands `range` and `enumerate` might be helpful for this.\n",
    "\n",
    "It is not expected that you do all the annotation or colours like in the figure below. The intended learning outcome is that you are able to split a (speech) vector into smaller blocks since this will be needed for the following tasks.\n",
    "</div>\n",
    "\n",
    "![Block-Processing-Example](BlockProcessingExample.png)"
   ]
  },
  {
   "cell_type": "code",
   "execution_count": null,
   "id": "e5bfab9a",
   "metadata": {},
   "outputs": [],
   "source": [
    "LBl   = 512                    # frame length (a.k.a. block length)\n",
    "Lov  = 1                       # frame overlap factor (e.g. 1 for no overlap, 2 for 50% overlap)\n",
    "Lhop = int(np.round(LBl/Lov)); # frame hop size\n",
    "\n",
    "# complete the code to create smaller blocks of data."
   ]
  },
  {
   "cell_type": "markdown",
   "id": "a8ee9958",
   "metadata": {},
   "source": [
    "<div class=\"alert alert-block alert-info\">\n",
    "    \n",
    "**Task 2 b:**\n",
    "    \n",
    "Is the given block length $L_{\\mathrm{Bl}}=512$ an appropriate choice for this speech signal? Please justify why or why not. (This obviously is not a programming task.)\n",
    "</div>"
   ]
  },
  {
   "cell_type": "markdown",
   "id": "11bcff1f",
   "metadata": {},
   "source": [
    "<span style=\"font-weight:bold;color:orange\">**YOU CAN PUT YOUR ANSWER HERE...**</span>"
   ]
  },
  {
   "cell_type": "markdown",
   "id": "90c12f7a",
   "metadata": {},
   "source": [
    "## Voiced / Unvoiced Detection\n",
    "\n",
    "Download two wave files `https://staffwww.dcs.shef.ac.uk/people/n.ma/comx502/voiced_unvoiced_e.wav` and `https://staffwww.dcs.shef.ac.uk/people/n.ma/comx502/voiced_unvoiced_z.wav` and store them in variables `e` and `z`. \n",
    "\n",
    "Please note: Since the signals you downloaded might have different sampling frequencies $f_s$, you might want to store these in different variable, like e.g. `fs_z` and `fs_e`.\n",
    "\n",
    "In the following we will calculate \n",
    "\n",
    "* block-based short-term energy and\n",
    "* zero-crossing rate\n",
    "* auto-correlation\n",
    "\n",
    "which you can apply to all three availale signals now (`e`, `z` and `s`).\n",
    "\n",
    "### Short-term energy\n",
    "\n",
    "The short-term energy for each frame can be calculated by\n",
    "\n",
    "\\begin{equation}\n",
    "E=\\sum_{k=0}^{L_{\\mathrm{Bl}}-1}s^2[k].\n",
    "\\label{eq:shortTermCorrelation} \\tag{1}\n",
    "\\end{equation}\n",
    "<br>\n",
    "<div class=\"alert alert-block alert-info\">\n",
    "    \n",
    "**Task 3: Short-Term Energy**\n",
    "    \n",
    "Calculate the short term energy according to \\eqref{eq:shortTermCorrelation} for each block in the signal(s) and visualise them together with the signal.\n",
    "</div>"
   ]
  },
  {
   "cell_type": "code",
   "execution_count": null,
   "id": "020ae6bb",
   "metadata": {},
   "outputs": [],
   "source": [
    "# your code here ()\n",
    "\n",
    "# ...\n",
    "nFrames       = int(len(signal) / sampsPerFrame)  # number of non-overlapping blocks\n",
    "\n",
    "E = np.zeros(nFrames)\n",
    "for frame in range(nFrames):\n",
    "    None # replace this None by your code "
   ]
  },
  {
   "cell_type": "markdown",
   "id": "e90bf29a",
   "metadata": {},
   "source": [
    "### Zero-Crossing Rate\n",
    "\n",
    "The zero crossing rate for a frame can be calculated by\n",
    "\n",
    "\\begin{equation}\n",
    "\\mathrm{ZCR}=\\sum_{k=1}^{L_{\\mathrm{BL}}−1} 0.5 |\\mathrm{sign}(s[k])−\\mathrm{sign}(s[k−1])|\n",
    "\\label{eq:zeroCrossingRate} \\tag{2}\n",
    "\\end{equation}\n",
    "\n",
    "Hint: The function `np.sign()` will help to implement the equation above.\n",
    "<br>\n",
    "<div class=\"alert alert-block alert-info\">\n",
    "    \n",
    "**Task 4: Zero-Crossing Rate**\n",
    "    \n",
    "Calculate the zero-crossing rate for each block in the signal(s) according to \\eqref{eq:zeroCrossingRate} and visualise them together with the signal.\n",
    "</div>"
   ]
  },
  {
   "cell_type": "code",
   "execution_count": null,
   "id": "1b655f30",
   "metadata": {},
   "outputs": [],
   "source": [
    "# your code here"
   ]
  },
  {
   "cell_type": "markdown",
   "id": "dfe7bfa4",
   "metadata": {},
   "source": [
    "### Correlation of two sequences\n",
    "\n",
    "Correlation describes a statistical relationship between data, in our case between speech signals which are viewed as (realisations of) processes. This means that correlation is a measurement of similarity:\n",
    "Two signals which are highly correlated (i.e., which have a strong statistical relationship) are similar to each other.\n",
    "\n",
    "The correlation between two signals $x[k]$ and $y[k]$ is defined as <sup>[[MW1]](https://mathworld.wolfram.com/StatisticalCorrelation.html)</sup>\n",
    "\n",
    "\\begin{equation}\n",
    "r_{xy} = \\frac{c_{xy}}{\\sigma_x \\sigma_y}\n",
    "\\end{equation}\n",
    "\n",
    "where $\\sigma_x$ and $\\sigma_y$ are the [standard deviations](https://en.wikipedia.org/wiki/Standard_deviation \"Definition of standard deviation on Wikipedia\") of the signals and $c_{xy}$ is the [covariance](https://en.wikipedia.org/wiki/Covariance \"Definition of covariance on Wikipedia\") between the two signals which can be estimated from the signals (please note that the hat ($\\hat{c}$) indicates that the quantity $c$ is estimated) by <sup>[[MW2]](https://mathworld.wolfram.com/Covariance.html)</sup>\n",
    "\n",
    "\\begin{equation}\n",
    "\\hat{c}_{xy} = \\frac{1}{L}\\sum_{k=1}^L (x[k]-\\bar{x})(y[k]-\\bar{y})\n",
    "\\end{equation}\n",
    "\n",
    "with the respective [(sample) mean](https://en.wikipedia.org/wiki/Sample_mean_and_covariance) values\n",
    "\n",
    "$$\\bar{x} = \\frac{1}{L}\\sum_{i=1}^L x[i],$$\n",
    "$$\\bar{y} = \\frac{1}{L}\\sum_{i=1}^L y[i].$$\n",
    "\n",
    "With estimates for the variances $\\hat{\\sigma}^2_x$ and $\\hat{\\sigma}^2_y$,\n",
    "\n",
    "$$\\hat{\\sigma}_x^2 = \\frac{1}{L}\\sum_{i=1}^L (x[i]-\\bar{x})$$\n",
    "$$\\hat{\\sigma}_y^2 = \\frac{1}{L}\\sum_{i=1}^L (y[i]-\\bar{y})$$\n",
    "\n",
    "we obtain\n",
    "\n",
    "\\begin{equation}\n",
    "\\hat{r}_{xy} = \\frac{\\sum_{k=1}^L (x[k]-\\bar{x})(y[k]-\\bar{y})}{L \\cdot \\hat{\\sigma}_x \\hat{\\sigma}_y}.\n",
    "\\label{eq:defCorrelationEstWithMeanAndVariance}\\tag{3}\n",
    "\\end{equation}\n",
    "\n",
    "as an estimate of the correlation. If the means and standard deviations of the signals are $\\bar{x}=\\bar{y}=0$ and $\\hat{\\sigma}_x=\\hat{\\sigma}_y=1$, respectively, this simplifies to\n",
    "\\begin{equation}\n",
    "\\hat{r}_{xy} = \\frac{1}{L}\\sum_{k=1}^{L}x[k]y[k].\n",
    "\\label{eq:defCorrelationEst}\\tag{4}\n",
    "\\end{equation}\n",
    "<br>\n",
    "<div class=\"alert alert-block alert-info\">\n",
    "    \n",
    "**Task 5: Normalisation for correlation analysis (already solved)**\n",
    "    \n",
    "Implement a second function `normalize_and_correlate` according to equation \\eqref{eq:defCorrelationEstWithMeanAndVariance} which ensures that the signals have mean of $0$ and standard deviation of $1$ by subtracting the former and dividing by the latter. Then the function `correlation` (which you are supposed to write / complete in Task 6) and return its value.\n",
    "    \n",
    "In the interest of time for this lab this task is already solved below. It should give us an example how to solve Task 6.\n",
    "</div>\n",
    "<br>\n",
    "<div class=\"alert alert-block alert-info\">\n",
    "    \n",
    "**Task 6: Correlation of two signals**\n",
    "    \n",
    "Implement a function `correlation` according to equation \\eqref{eq:defCorrelationEst} which takes two signals and should return the correlation value, assuming both signals have mean $0$ and standard deviation $1$.\n",
    "</div>"
   ]
  },
  {
   "cell_type": "code",
   "execution_count": null,
   "id": "2b5eff76",
   "metadata": {},
   "outputs": [],
   "source": [
    "def correlation(signal1, signal2):\n",
    "    \"\"\"Return the correlation value of two signals which are assumed to be normalized (mean 0, std 1).\"\"\"\n",
    "    # rxy_est =  ... # complete here\n",
    "    return rxy_est\n",
    "\n",
    "def normalize_and_correlate(signal1, signal2):\n",
    "    \"\"\"Return the correlation value of two signals after normalizing them.\"\"\"\n",
    "    return correlation(\n",
    "        ((signal1 - np.mean(signal1)) / np.std(signal1)),\n",
    "        ((signal2 - np.mean(signal2)) / np.std(signal2)),\n",
    "    )"
   ]
  },
  {
   "cell_type": "markdown",
   "id": "f4325678",
   "metadata": {},
   "source": [
    "The following (already completed) function plots two signals, their element-wise multiplication, and the resulting correlation value. The code is given as a helping function to understand the correlation. Nothing has to be changed in the code block below."
   ]
  },
  {
   "cell_type": "code",
   "execution_count": null,
   "id": "6fc624fd",
   "metadata": {},
   "outputs": [],
   "source": [
    "def plot_correlation(signal1, signal2, title=\"\"):\n",
    "    # Ensure that both signals have the same number of samples\n",
    "    assert len(signal1) == len(signal2)\n",
    "    \n",
    "    # Ensure that the signals have both mean 0 and standard deviation 1\n",
    "    signal1 = (signal1 - np.mean(signal1)) / np.std(signal1)\n",
    "    signal2 = (signal2 - np.mean(signal2)) / np.std(signal2)\n",
    "    \n",
    "    multiplied_signals = signal1 * signal2\n",
    "    correlation_value = correlation(signal1, signal2)\n",
    "\n",
    "    y_max = max(np.max(np.abs(signal1)), np.max(np.abs(signal2)), np.max(np.abs(multiplied_signals)))\n",
    "    \n",
    "    #fig, axs = plt.subplots(3, figsize=(12, 6))\n",
    "    fig = plt.figure(figsize=(12, 6), constrained_layout=True)\n",
    "    fig.suptitle(title)\n",
    "\n",
    "    # Create grid for the different plots\n",
    "    gs = fig.add_gridspec(3, 10)\n",
    "\n",
    "    axs = [fig.add_subplot(gs[0, :-1]), fig.add_subplot(gs[1, :-1]), \n",
    "           fig.add_subplot(gs[2, :-1]), fig.add_subplot(gs[:,-1])]\n",
    "    \n",
    "    axs[0].plot(np.arange(len(signal1)), signal1, marker=\"o\", lw=0.1)\n",
    "    axs[1].plot(np.arange(len(signal2)), signal2, marker=\"o\", lw=0.1)\n",
    "    axs[2].plot(np.arange(len(multiplied_signals)), multiplied_signals, marker=\"o\", lw=0.1)\n",
    "    axs[3].axhline(0, color=\"black\", lw=0.5)\n",
    "    axs[3].axhline(correlation_value, lw=3)\n",
    "\n",
    "    axs[0].set_ylim(-y_max*1.1, y_max*1.1)\n",
    "    axs[1].set_ylim(-y_max*1.1, y_max*1.1)\n",
    "    axs[2].set_ylim(-y_max*1.1, y_max*1.1)\n",
    "    axs[2].set_ylim(-np.max(np.abs(multiplied_signals)) * 1.1, np.max(np.abs(multiplied_signals)) * 1.1)\n",
    "    axs[3].set_ylim(-1.01, 1.01)\n",
    "    axs[3].set_xticks([])\n",
    "    axs[0].get_xaxis().set_ticks([])\n",
    "    axs[0].set_ylabel(\"$x[t]$\")\n",
    "    axs[1].set_ylabel(\"$y[t]$\")\n",
    "    axs[2].set_ylabel(\"$x[t]\\cdot y[t]$\")\n",
    "    axs[1].get_xaxis().set_ticks([])\n",
    "    axs[2].set_xlabel(\"time in samples\")\n",
    "    axs[0].title.set_text(\"The first signal $x[t]$\")\n",
    "    axs[1].title.set_text(\"The second signal $y[t]$\")\n",
    "    axs[2].title.set_text(\"Element-wise multiplication of both signals\")\n",
    "    axs[3].title.set_text(\"Correlation: {:.2f}\".format(correlation_value))"
   ]
  },
  {
   "cell_type": "markdown",
   "id": "a80ef167",
   "metadata": {},
   "source": [
    "#### Examples - Correlation of two sequences\n",
    "\n",
    "We can check the correlation of different signals:\n",
    "1. Correlation of a (sine) signal with itself.\n",
    "2. Correlation of a sine wave with a sine wave shifted by $\\pi$.\n",
    "3. Correlation of two white noise signals.\n",
    "\n",
    "\n",
    "<div class=\"alert alert-block alert-info\">\n",
    "    \n",
    "**Task 7: Correlation of sine signals**\n",
    "    \n",
    "Explore the three correlations for the signals mentioned above.\n",
    "</div>\n",
    "\n",
    "##### Correlation of a (sine) signal with itself"
   ]
  },
  {
   "cell_type": "code",
   "execution_count": null,
   "id": "9e847a5b",
   "metadata": {},
   "outputs": [],
   "source": [
    "# signal1 = ... # complete the code\n",
    "plot_correlation(signal1, signal1, \"A signal is highly correlated with itself\")"
   ]
  },
  {
   "cell_type": "markdown",
   "id": "0f18e27e",
   "metadata": {},
   "source": [
    "##### Correlation of a sine wave with a sine wave shifted by $\\pi$."
   ]
  },
  {
   "cell_type": "code",
   "execution_count": null,
   "id": "af49c89f",
   "metadata": {},
   "outputs": [],
   "source": [
    "# your code here"
   ]
  },
  {
   "cell_type": "markdown",
   "id": "906f156d",
   "metadata": {},
   "source": [
    "##### Correlation of two (white) noise signals.\n",
    "\n",
    "The code for generating the first noise signal is alradey provided below. Generate a second noise signal accordingly and explore the correlation."
   ]
  },
  {
   "cell_type": "code",
   "execution_count": null,
   "id": "6c4c8ced",
   "metadata": {},
   "outputs": [],
   "source": [
    "np.random.seed(100)\n",
    "noise1 = np.random.uniform(-1, 1, size=40)\n",
    "\n",
    "# your code here"
   ]
  },
  {
   "cell_type": "markdown",
   "id": "d7703ce8",
   "metadata": {},
   "source": [
    "## Copyright\n",
    "\n",
    "This notebook is licensed under [Creative Commons Attribution 4.0](https://creativecommons.org/licenses/by/4.0/) to be used during the lecture COM3502-4502-6502 Speech Processing at the [University of Sheffield](https://www.sheffield.ac.uk/ \"Open web page of The University of Sheffield\"), School of [Computer Science](https://www.sheffield.ac.uk/dcs \"Open web page of School of Computer Science, University of Sheffield\"). You may download, [clone](https://docs.github.com/en/repositories/creating-and-managing-repositories/cloning-a-repository) or [fork](https://docs.github.com/en/get-started/quickstart/fork-a-repo) it to your computer or private [GitHub](https://github.com/) account."
   ]
  }
 ],
 "metadata": {
  "kernelspec": {
   "display_name": "Python 3 (ipykernel)",
   "language": "python",
   "name": "python3"
  },
  "language_info": {
   "codemirror_mode": {
    "name": "ipython",
    "version": 3
   },
   "file_extension": ".py",
   "mimetype": "text/x-python",
   "name": "python",
   "nbconvert_exporter": "python",
   "pygments_lexer": "ipython3",
   "version": "3.9.7"
  }
 },
 "nbformat": 4,
 "nbformat_minor": 5
}
