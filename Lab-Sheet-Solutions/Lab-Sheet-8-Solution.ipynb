{
 "cells": [
  {
   "cell_type": "markdown",
   "id": "3d641ceb",
   "metadata": {},
   "source": [
    "# Solutions for Lab Sheet 8 (COM3502-4502-6502 Speech Processing)"
   ]
  },
  {
   "cell_type": "markdown",
   "id": "81ac7b9e",
   "metadata": {},
   "source": [
    "This lab sheet (solution) is part of the lecture COM[3502](http://www.dcs.shef.ac.uk/intranet/teaching/public/modules/level3/com3502.html \"Open web page for COM3502 module\")-[4502](http://www.dcs.shef.ac.uk/intranet/teaching/public/modules/level4/com4502.html \"Open web page for COM4502 module\")-[6502](http://www.dcs.shef.ac.uk/intranet/teaching/public/modules/msc/com6502.html \"Open web page for COM4502 module\") Speech Processing at the [University of Sheffield](https://www.sheffield.ac.uk/ \"Open web page of The University of Sheffield\"), Dept. of [Computer Science](https://www.sheffield.ac.uk/dcs \"Open web page of Department of Computer Science, University of Sheffield\")."
   ]
  },
  {
   "cell_type": "markdown",
   "id": "c9783d1e",
   "metadata": {},
   "source": [
    "It is probably easiest to open this Jupyter Notebook with [Google Colab](https://colab.research.google.com/notebooks/intro.ipynb#recent=true \"Open in Google Colab\") since GitHub's Viewer does not always show all details correctly. <a href=\"https://colab.research.google.com/github/sap-shef/SpeechProcesssingLab/blob/main/Lab-Sheet-Solutions/Lab-Sheet-8-Solution.ipynb\"><img align=\"right\" src=\"https://colab.research.google.com/assets/colab-badge.svg\" alt=\"Open Notebook in Google Colab\" title=\"Open and Execute the Notebook directly in Google Colaboratory\"></a>\n",
    "\n",
    "Please put questions, comments and correction suggestions in the [Blackboard](https://vle.shef.ac.uk) discussion board or send an email to [s.goetze@sheffield.ac.uk](mailto:s.goetze@sheffield.ac.uk)."
   ]
  },
  {
   "cell_type": "code",
   "execution_count": 1,
   "id": "334a52b1",
   "metadata": {},
   "outputs": [],
   "source": [
    "# Let's do the ususal necessary and nice-to-have imports\n",
    "%matplotlib inline\n",
    "import matplotlib.pyplot as plt  # plotting\n",
    "import seaborn as sns; sns.set() # styling ((un-)comment if you want)\n",
    "import numpy as np               # math"
   ]
  },
  {
   "cell_type": "code",
   "execution_count": null,
   "id": "1fd68646",
   "metadata": {},
   "outputs": [],
   "source": []
  },
  {
   "cell_type": "code",
   "execution_count": null,
   "id": "bc2ab9e8",
   "metadata": {},
   "outputs": [],
   "source": []
  },
  {
   "cell_type": "markdown",
   "id": "d40427ff",
   "metadata": {},
   "source": [
    "## Overlap-Add"
   ]
  },
  {
   "cell_type": "code",
   "execution_count": 2,
   "id": "42137aed",
   "metadata": {},
   "outputs": [],
   "source": [
    "def nextPowerOf2(L):\n",
    "    '''\n",
    "    Calculates the smallest power of 2 which is bigger than input variable n\n",
    "    \n",
    "    This helper function can be used to calculate an appropriate \n",
    "    length for an DFT which is longer than the signal length n and a power of 2.\n",
    "    \n",
    "    Input:\n",
    "        L: int\n",
    "            signal length\n",
    "    Output:\n",
    "        p: integer which is greater or equal than n and a power of 2\n",
    "    \n",
    "    Examples:\n",
    "        for L in range(20):\n",
    "            print('nextPowerOf2(L) for L='+str(L)+' is '+str(nextPowerOf2(L)))\n",
    "            \n",
    "        x=ones(11)\n",
    "        L_FFT=nextPowerOf2(len(x))\n",
    "    '''\n",
    "    if (L<2):\n",
    "        return 2\n",
    "    # If n is a power of 2 then return n \n",
    "    if (L and not(L & (L - 1))):\n",
    "        return L\n",
    "    # If n is NOT a power of 2 \n",
    "    p = 1\n",
    "    while (p < L) :\n",
    "        p <<= 1 \n",
    "    return p\n",
    "\n",
    "def nextPowerOf2_simple(L):\n",
    "    return int(np.max([2,2**np.ceil(np.log2(L))]))"
   ]
  },
  {
   "cell_type": "code",
   "execution_count": 5,
   "id": "dcc4da1b",
   "metadata": {},
   "outputs": [
    {
     "name": "stdout",
     "output_type": "stream",
     "text": [
      "nextPowerOf2(L) for L=0 is 2\n",
      "nextPowerOf2(L) for L=0 is 2\n",
      "nextPowerOf2(L) for L=1 is 2\n",
      "nextPowerOf2(L) for L=1 is 2\n",
      "nextPowerOf2(L) for L=2 is 2\n",
      "nextPowerOf2(L) for L=2 is 2\n",
      "nextPowerOf2(L) for L=3 is 4\n",
      "nextPowerOf2(L) for L=3 is 4\n",
      "nextPowerOf2(L) for L=4 is 4\n",
      "nextPowerOf2(L) for L=4 is 4\n",
      "nextPowerOf2(L) for L=5 is 8\n",
      "nextPowerOf2(L) for L=5 is 8\n",
      "nextPowerOf2(L) for L=6 is 8\n",
      "nextPowerOf2(L) for L=6 is 8\n",
      "nextPowerOf2(L) for L=7 is 8\n",
      "nextPowerOf2(L) for L=7 is 8\n",
      "nextPowerOf2(L) for L=8 is 8\n",
      "nextPowerOf2(L) for L=8 is 8\n",
      "nextPowerOf2(L) for L=9 is 16\n",
      "nextPowerOf2(L) for L=9 is 16\n",
      "nextPowerOf2(L) for L=10 is 16\n",
      "nextPowerOf2(L) for L=10 is 16\n",
      "nextPowerOf2(L) for L=11 is 16\n",
      "nextPowerOf2(L) for L=11 is 16\n",
      "nextPowerOf2(L) for L=12 is 16\n",
      "nextPowerOf2(L) for L=12 is 16\n",
      "nextPowerOf2(L) for L=13 is 16\n",
      "nextPowerOf2(L) for L=13 is 16\n",
      "nextPowerOf2(L) for L=14 is 16\n",
      "nextPowerOf2(L) for L=14 is 16\n",
      "nextPowerOf2(L) for L=15 is 16\n",
      "nextPowerOf2(L) for L=15 is 16\n",
      "nextPowerOf2(L) for L=16 is 16\n",
      "nextPowerOf2(L) for L=16 is 16\n",
      "nextPowerOf2(L) for L=17 is 32\n",
      "nextPowerOf2(L) for L=17 is 32\n",
      "nextPowerOf2(L) for L=18 is 32\n",
      "nextPowerOf2(L) for L=18 is 32\n",
      "nextPowerOf2(L) for L=19 is 32\n",
      "nextPowerOf2(L) for L=19 is 32\n"
     ]
    },
    {
     "name": "stderr",
     "output_type": "stream",
     "text": [
      "C:\\Users\\stefan\\AppData\\Local\\Temp/ipykernel_13820/2620285668.py:33: RuntimeWarning: divide by zero encountered in log2\n",
      "  return int(np.max([2,2**np.ceil(np.log2(L))]))\n"
     ]
    },
    {
     "ename": "NameError",
     "evalue": "name 'math' is not defined",
     "output_type": "error",
     "traceback": [
      "\u001b[1;31m---------------------------------------------------------------------------\u001b[0m",
      "\u001b[1;31mNameError\u001b[0m                                 Traceback (most recent call last)",
      "\u001b[1;32m~\\AppData\\Local\\Temp/ipykernel_13820/1909793197.py\u001b[0m in \u001b[0;36m<module>\u001b[1;34m\u001b[0m\n\u001b[0;32m      5\u001b[0m \u001b[1;33m\u001b[0m\u001b[0m\n\u001b[0;32m      6\u001b[0m \u001b[1;31m# Get smallest power of 2 at least as large as N\u001b[0m\u001b[1;33m\u001b[0m\u001b[1;33m\u001b[0m\u001b[1;33m\u001b[0m\u001b[0m\n\u001b[1;32m----> 7\u001b[1;33m \u001b[0mNFFT\u001b[0m \u001b[1;33m=\u001b[0m \u001b[1;36m2\u001b[0m \u001b[1;33m**\u001b[0m \u001b[0mnp\u001b[0m\u001b[1;33m.\u001b[0m\u001b[0mceil\u001b[0m\u001b[1;33m(\u001b[0m\u001b[0mmath\u001b[0m\u001b[1;33m.\u001b[0m\u001b[0mlog2\u001b[0m\u001b[1;33m(\u001b[0m\u001b[0mN\u001b[0m\u001b[1;33m)\u001b[0m\u001b[1;33m)\u001b[0m\u001b[1;33m\u001b[0m\u001b[1;33m\u001b[0m\u001b[0m\n\u001b[0m",
      "\u001b[1;31mNameError\u001b[0m: name 'math' is not defined"
     ]
    }
   ],
   "source": [
    "for L in range(20):\n",
    "    print('nextPowerOf2(L) for L='+str(L)+' is '+str(nextPowerOf2(L))) \n",
    "    print('nextPowerOf2(L) for L='+str(L)+' is '+str(nextPowerOf2_simple(L)))\n",
    "\n",
    "\n",
    "# Get smallest power of 2 at least as large as N\n",
    "NFFT = 2 ** np.ceil(math.log2(N))"
   ]
  },
  {
   "cell_type": "code",
   "execution_count": 6,
   "id": "131be2c6",
   "metadata": {},
   "outputs": [
    {
     "data": {
      "image/png": "[encoded data removed]",
      "text/plain": [
       "<Figure size 432x288 with 1 Axes>"
      ]
     },
     "metadata": {},
     "output_type": "display_data"
    },
    {
     "data": {
      "image/png": "[encoded data removed]",
      "text/plain": [
       "<Figure size 432x288 with 1 Axes>"
      ]
     },
     "metadata": {},
     "output_type": "display_data"
    },
    {
     "data": {
      "image/png": "[encoded data removed]",
      "text/plain": [
       "<Figure size 432x288 with 1 Axes>"
      ]
     },
     "metadata": {},
     "output_type": "display_data"
    },
    {
     "data": {
      "image/png": "[encoded data removed]",
      "text/plain": [
       "<Figure size 432x288 with 1 Axes>"
      ]
     },
     "metadata": {},
     "output_type": "display_data"
    }
   ],
   "source": [
    "L_x = 32\n",
    "L_h = 4\n",
    "x=np.ones(L_x)\n",
    "h=np.ones(L_h)\n",
    "\n",
    "L_Bl  = 8   # block length (see Fig 2.25 in https://staffwww.dcs.shef.ac.uk/people/S.Goetze/book/Ch2.S3.html)\n",
    "L_hop = 8\n",
    "L_DFT = nextPowerOf2(L_Bl+L_h-1)\n",
    "# L_DFT = 16\n",
    "\n",
    "noOfFrames = (L_x // L_hop) # number of blocks\n",
    "\n",
    "# outer loop over mic channels\n",
    "# h = np.zeros(L_DFT)\n",
    "# h[:L_h] = h\n",
    "H = np.fft.rfft(h, n=L_DFT)\n",
    "oldBlock = []\n",
    "for iFrame in range(noOfFrames):\n",
    "    #x_block = np.zeros(L_DFT) # zero padding # not needed\n",
    "    k = np.arange(iFrame*L_hop, iFrame*L_hop+L_Bl) # time vector\n",
    "    x_block = x[k]\n",
    "    # k = np.hstack((k,np.zeros(L_DFT-len(k))))  # zero padding\n",
    "    X_block = np.fft.rfft(x_block, n=L_DFT)\n",
    "\n",
    "    Y = X_block*H # frequency domain multiplication\n",
    "    y = np.fft.irfft(Y, n=L_DFT)\n",
    "\n",
    "    k2 = np.arange(iFrame*L_hop, iFrame*L_hop+L_DFT) # time vector\n",
    "    plt.figure()\n",
    "    plt.stem(k2,y)"
   ]
  },
  {
   "cell_type": "code",
   "execution_count": null,
   "id": "93a92bfd",
   "metadata": {},
   "outputs": [],
   "source": []
  },
  {
   "cell_type": "code",
   "execution_count": null,
   "id": "95dfbf6b",
   "metadata": {},
   "outputs": [],
   "source": []
  },
  {
   "cell_type": "markdown",
   "id": "a3eacb52",
   "metadata": {},
   "source": [
    "## Copyright\n",
    "\n",
    "This notebook is licensed to be used during the lecture COM[3502](http://www.dcs.shef.ac.uk/intranet/teaching/public/modules/level3/com3502.html \"Open web page for COM3502 module\")-[4502](http://www.dcs.shef.ac.uk/intranet/teaching/public/modules/level4/com4502.html \"Open web page for COM4502 module\")-[6502](http://www.dcs.shef.ac.uk/intranet/teaching/public/modules/msc/com6502.html \"Open web page for COM4502 module\") Speech Processing at the [University of Sheffield](https://www.sheffield.ac.uk/ \"Open web page of The University of Sheffield\"), Dept. of [Computer Science](https://www.sheffield.ac.uk/dcs \"Open web page of Department of Computer Science, University of Sheffield\"). Any further use (beyond use for the lecture) is only permitted if agreed with the [module lead](mailto:s.goetze@sheffield.ac.uk). "
   ]
  }
 ],
 "metadata": {
  "kernelspec": {
   "display_name": "Python 3 (ipykernel)",
   "language": "python",
   "name": "python3"
  },
  "language_info": {
   "codemirror_mode": {
    "name": "ipython",
    "version": 3
   },
   "file_extension": ".py",
   "mimetype": "text/x-python",
   "name": "python",
   "nbconvert_exporter": "python",
   "pygments_lexer": "ipython3",
   "version": "3.8.3"
  }
 },
 "nbformat": 4,
 "nbformat_minor": 5
}
